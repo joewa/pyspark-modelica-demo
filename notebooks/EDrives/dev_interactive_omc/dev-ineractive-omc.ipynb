{
 "cells": [
  {
   "cell_type": "markdown",
   "id": "abb917f3-cbc8-4a6a-84d0-400887d8d563",
   "metadata": {},
   "source": [
    "# Run simulation with interactive OMC session\n",
    "This example illustrates how to develop, run, test(, repeat) a Modelica model in a (local) pandas environment, enabling quick iterations to analyze and tune the model before going to Big Data.\n",
    "\n",
    "See https://openmodelica.org/doc/OpenModelicaUsersGuide/v1.11.0/ompython.html"
   ]
  },
  {
   "cell_type": "code",
   "execution_count": null,
   "id": "2f86fe2a-74d6-418f-88ec-327c2a2c4e59",
   "metadata": {},
   "outputs": [],
   "source": [
    "import pandas as  pd\n",
    "import os\n",
    "import sys"
   ]
  },
  {
   "cell_type": "code",
   "execution_count": null,
   "id": "ccf7ecb1-9b15-4e30-bac0-f572cf1438ce",
   "metadata": {},
   "outputs": [],
   "source": [
    "# Finds the package in the repo instead of the installed one\n",
    "sys.path.insert(0, '../../../src')"
   ]
  },
  {
   "cell_type": "code",
   "execution_count": null,
   "id": "087a844c-9cb6-4ac7-b071-77f5bb9326c9",
   "metadata": {},
   "outputs": [],
   "source": [
    "import tempfile\n",
    "from OMPython import ModelicaSystem\n",
    "import DyMat\n",
    "from ModelicaModels import EDrives"
   ]
  },
  {
   "cell_type": "code",
   "execution_count": null,
   "id": "a2c84299-b6cf-4c63-8d6c-86b069b168b9",
   "metadata": {},
   "outputs": [],
   "source": [
    "# mod = BouncingBall.instantiatemodel()  # Does NOT connect to omc\n",
    "modelname = \"EDrives.Examples.DCDC.DC_Drive_Continuous\"\n",
    "# modelname = \"EDrives.Examples.DCDC.DC_Drive_Switching\"\n",
    "# xmlFilePath = os.path.join(SETUP_DIR, 'ModelicaModels', 'build', modelname)\n",
    "mod = ModelicaSystem(\n",
    "        fileName=os.path.join(os.path.dirname(EDrives.__file__), 'EDrives', 'package.mo'),\n",
    "        modelName=modelname, lmodel=['Modelica'],\n",
    "    )"
   ]
  },
  {
   "cell_type": "code",
   "execution_count": null,
   "id": "c67aa5c1-9a4c-4a4f-9b83-5e641198d95e",
   "metadata": {},
   "outputs": [],
   "source": [
    "sim_options_d = mod.getSimulationOptions()\n",
    "sim_options_d['stopTime'] = 24.0\n",
    "mod.setSimulationOptions(sim_options_d)"
   ]
  },
  {
   "cell_type": "code",
   "execution_count": null,
   "id": "1213f1d0-bec9-4919-9f67-f24e6088cf1e",
   "metadata": {},
   "outputs": [],
   "source": [
    "mod.getSimulationOptions()"
   ]
  },
  {
   "cell_type": "code",
   "execution_count": null,
   "id": "a27949fc-33eb-4b1d-867c-0c282ddd0e06",
   "metadata": {},
   "outputs": [],
   "source": [
    "p = pd.to_numeric(pd.Series(mod.getParameters()), errors='coerce')\n",
    "p['dcpmData.VaNominal'] "
   ]
  },
  {
   "cell_type": "code",
   "execution_count": null,
   "id": "3571ea83-9b0f-413b-a7bc-0913a3c739a3",
   "metadata": {},
   "outputs": [],
   "source": [
    "dMin = float(mod.getParameters([\"dMin\"])[0])\n",
    "dMax = 1.0 - dMin\n",
    "tauNominal=p['dcpmData.VaNominal'] * p['dcpmData.IaNominal'] / p['dcpmData.wNominal']  # The mode uses ViNominal"
   ]
  },
  {
   "cell_type": "code",
   "execution_count": null,
   "id": "6c7dfbef-3177-444c-8890-654012960578",
   "metadata": {},
   "outputs": [],
   "source": [
    "ts_df1 = pd.DataFrame(columns=[\n",
    "    'time', 'value'], data=[\n",
    "    [0.0, 0.5],\n",
    "    [3.0, 0.5],\n",
    "    [4.0, dMax],\n",
    "    [12.0, dMax],\n",
    "    [13.0, dMin],\n",
    "    [21.0, dMin],\n",
    "    [22.0, 0.5],\n",
    "    [24.0, 0.5],    \n",
    "])\n",
    "ts_df1['input'] = 'dutyCycle_series'\n",
    "ts_df2 = pd.DataFrame(columns=[\n",
    "    'time', 'value'], data=[\n",
    "    [0.0, 0.0],\n",
    "    [6.0, 0.0],\n",
    "    [7.0, -tauNominal],\n",
    "    [9.0, -tauNominal],\n",
    "    [10.0, tauNominal],\n",
    "    [15.0, tauNominal],\n",
    "    [16.0, -tauNominal],\n",
    "    [18.0, -tauNominal],\n",
    "    [19.0, 0.0],\n",
    "    [24.0, 0.0],\n",
    "])\n",
    "ts_df2['input'] = 'loadTorque_Series'\n",
    "ts_df = pd.concat([ts_df1, ts_df2], ignore_index=True)\n",
    "# ts_df['run_key'] = 'r1'\n",
    "ts_df = ts_df.pivot(index='time', columns='input', values='value').ffill().reset_index()#.drop('input', axis=1)\n",
    "ts_df['run_key'] = 'r1'\n",
    "#ts_df.to_csv('test.csv', sep=',', line_terminator=',\\n')"
   ]
  },
  {
   "cell_type": "code",
   "execution_count": null,
   "id": "29e32810-9ac5-49a5-99de-1c2676eeb6b7",
   "metadata": {},
   "outputs": [],
   "source": [
    "temp_dir = tempfile.gettempdir()"
   ]
  },
  {
   "cell_type": "code",
   "execution_count": null,
   "id": "8ba6e59b-1905-43d6-8edd-b3cfe11018b3",
   "metadata": {},
   "outputs": [],
   "source": [
    "inputs_required = set(mod.getInputs().keys())\n",
    "inputs_available = set(ts_df.columns)\n",
    "if inputs_available.intersection(inputs_required) != inputs_required:\n",
    "    raise ValueError(\n",
    "        'Required input series not provided in the DataFrame.\\nRequired: {0}. Provided:{1}'.format(\n",
    "            str(inputs_required), str(inputs_available)\n",
    "        )\n",
    "    )\n",
    "print(str(['time']+list(mod.getInputs().keys())))\n",
    "pdf = ts_df[['time']+list(mod.getInputs().keys())]\n",
    "# Write csv file and tell the model class\n",
    "mod.csvFile = os.path.join(temp_dir, mod.modelName + '_inputs.csv')\n",
    "pdf.to_csv(mod.csvFile, sep=',', line_terminator=',\\n')\n",
    "mod.inputFlag = True"
   ]
  },
  {
   "cell_type": "code",
   "execution_count": null,
   "id": "03ed2656-3e92-4b62-a845-4850f9fd9c39",
   "metadata": {},
   "outputs": [],
   "source": [
    "%%time\n",
    "res_vars = ['dcpm.wMechanical', 'constantVoltage.i', 'dcpm.brush.i', 'torque.tau', 'hBridge.ref']\n",
    "resfilepathname = os.path.join(temp_dir, mod.modelName + '_result.mat')\n",
    "sim_res = mod.simulate(\n",
    "        resultfile=resfilepathname,\n",
    "        simflags=None,\n",
    "        overrideaux='stopTime=24,variableFilter=\"'+'|'.join(res_vars)+'\"'\n",
    "    )"
   ]
  },
  {
   "cell_type": "code",
   "execution_count": null,
   "id": "4a60a185-6a2c-4a3b-a2f9-34f1d9fb92fe",
   "metadata": {},
   "outputs": [],
   "source": [
    "def dymat2pandas(dm, block, names) -> pd.DataFrame:\n",
    "    ts_df = pd.DataFrame(dm.getVarArray(names)).T\n",
    "    ts_df.columns=['time'] + names\n",
    "    return ts_df\n",
    "\n",
    "\n",
    "dm = DyMat.DyMatFile(resfilepathname)\n",
    "res_df = dymat2pandas(dm, 2, res_vars)"
   ]
  },
  {
   "cell_type": "code",
   "execution_count": null,
   "id": "4c47b1a3-5940-442a-ae81-747929efe1eb",
   "metadata": {},
   "outputs": [],
   "source": [
    "%%time\n",
    "# TODO Loading results (from mat-file) is very slow\n",
    "data = mod.getSolutions(varList=list(vars), resultfile=resfilepathname)\n",
    "res_df = pd.DataFrame(data).T\n",
    "res_df.columns = vars\n",
    "res_df"
   ]
  },
  {
   "cell_type": "code",
   "execution_count": null,
   "id": "6fa8b3ee-93d6-4b60-baeb-c67f8ba10850",
   "metadata": {},
   "outputs": [],
   "source": [
    "%matplotlib inline\n",
    "#%matplotlib notebook\n",
    "import matplotlib.pyplot as plt"
   ]
  },
  {
   "cell_type": "code",
   "execution_count": null,
   "id": "21fadc1c-a4c1-4f7c-bb81-449b203ddc3e",
   "metadata": {},
   "outputs": [],
   "source": [
    "fig, ax = plt.subplots(figsize=(5,3.5))\n",
    "ax.plot(res_df['time'], res_df['dcpm.wMechanical'])\n",
    "plt.tight_layout()"
   ]
  },
  {
   "cell_type": "code",
   "execution_count": null,
   "id": "1485314b-f493-46d0-a82e-9ed9b7e01935",
   "metadata": {},
   "outputs": [],
   "source": []
  }
 ],
 "metadata": {
  "kernelspec": {
   "display_name": "Python 3 (ipykernel)",
   "language": "python",
   "name": "python3"
  },
  "language_info": {
   "codemirror_mode": {
    "name": "ipython",
    "version": 3
   },
   "file_extension": ".py",
   "mimetype": "text/x-python",
   "name": "python",
   "nbconvert_exporter": "python",
   "pygments_lexer": "ipython3",
   "version": "3.8.13"
  }
 },
 "nbformat": 4,
 "nbformat_minor": 5
}
