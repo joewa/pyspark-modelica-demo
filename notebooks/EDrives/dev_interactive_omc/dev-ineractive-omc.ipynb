{
 "cells": [
  {
   "cell_type": "markdown",
   "id": "abb917f3-cbc8-4a6a-84d0-400887d8d563",
   "metadata": {},
   "source": [
    "# Run simulation with interactive OMC session\n",
    "This example illustrates how to develop, run, test(, repeat) a Modelica model in a (local) pandas environment, enabling quick iterations to analyze and tune the model before going to Big Data.\n",
    "\n",
    "See https://openmodelica.org/doc/OpenModelicaUsersGuide/v1.11.0/ompython.html"
   ]
  },
  {
   "cell_type": "code",
   "execution_count": null,
   "id": "2f86fe2a-74d6-418f-88ec-327c2a2c4e59",
   "metadata": {},
   "outputs": [],
   "source": [
    "import pandas as  pd\n",
    "import os\n",
    "import sys"
   ]
  },
  {
   "cell_type": "code",
   "execution_count": null,
   "id": "ccf7ecb1-9b15-4e30-bac0-f572cf1438ce",
   "metadata": {},
   "outputs": [],
   "source": [
    "# Finds the package in the repo instead of the installed one\n",
    "sys.path.insert(0, '../../../src')"
   ]
  },
  {
   "cell_type": "code",
   "execution_count": null,
   "id": "087a844c-9cb6-4ac7-b071-77f5bb9326c9",
   "metadata": {},
   "outputs": [],
   "source": [
    "import tempfile\n",
    "from OMPython import ModelicaSystem\n",
    "from ModelicaModels import EDrives"
   ]
  },
  {
   "cell_type": "code",
   "execution_count": null,
   "id": "a2c84299-b6cf-4c63-8d6c-86b069b168b9",
   "metadata": {},
   "outputs": [],
   "source": [
    "# mod = BouncingBall.instantiatemodel()  # Does NOT connect to omc\n",
    "modelname = EDrives.modelName\n",
    "# xmlFilePath = os.path.join(SETUP_DIR, 'ModelicaModels', 'build', modelname)\n",
    "mod = ModelicaSystem(\n",
    "        fileName=os.path.dirname(EDrives.__file__) + '/' + modelname.replace('.', '/')+\".mo\",\n",
    "        modelName=modelname, lmodel='Modelica',\n",
    "    )"
   ]
  },
  {
   "cell_type": "code",
   "execution_count": null,
   "id": "c67aa5c1-9a4c-4a4f-9b83-5e641198d95e",
   "metadata": {},
   "outputs": [],
   "source": [
    "sim_options_d = mod.getSimulationOptions()\n",
    "sim_options_d['stopTime'] = 2\n",
    "mod.setSimulationOptions(sim_options_d)"
   ]
  },
  {
   "cell_type": "code",
   "execution_count": null,
   "id": "1213f1d0-bec9-4919-9f67-f24e6088cf1e",
   "metadata": {},
   "outputs": [],
   "source": [
    "mod.getSimulationOptions()"
   ]
  },
  {
   "cell_type": "code",
   "execution_count": null,
   "id": "03ed2656-3e92-4b62-a845-4850f9fd9c39",
   "metadata": {},
   "outputs": [],
   "source": [
    "%%time\n",
    "resfilename = os.path.join(tempfile.gettempdir(), 'b.mat')\n",
    "mod.setParameters(\"e=0.2\")\n",
    "mod.simulate(resultfile=resfilename, simflags=None)"
   ]
  },
  {
   "cell_type": "code",
   "execution_count": null,
   "id": "bca0c8dd-6043-4c43-a7c3-a870df47632e",
   "metadata": {},
   "outputs": [],
   "source": [
    "# Needs connection to omc\n",
    "vars = mod.getSolutions()\n",
    "vars"
   ]
  },
  {
   "cell_type": "code",
   "execution_count": null,
   "id": "4c47b1a3-5940-442a-ae81-747929efe1eb",
   "metadata": {},
   "outputs": [],
   "source": [
    "%%time\n",
    "# TODO Loading results (from mat-file) is very slow\n",
    "data = mod.getSolutions(varList=list(vars), resultfile=resfilename)\n",
    "ts_df = pd.DataFrame(data).T\n",
    "ts_df.columns = vars\n",
    "ts_df"
   ]
  },
  {
   "cell_type": "code",
   "execution_count": null,
   "id": "6fa8b3ee-93d6-4b60-baeb-c67f8ba10850",
   "metadata": {},
   "outputs": [],
   "source": [
    "%matplotlib inline\n",
    "#%matplotlib notebook\n",
    "import matplotlib.pyplot as plt"
   ]
  },
  {
   "cell_type": "code",
   "execution_count": null,
   "id": "21fadc1c-a4c1-4f7c-bb81-449b203ddc3e",
   "metadata": {},
   "outputs": [],
   "source": [
    "fig, ax = plt.subplots(figsize=(5,3.5))\n",
    "ax.plot(ts_df['time'], ts_df['h'])\n",
    "plt.tight_layout()"
   ]
  },
  {
   "cell_type": "code",
   "execution_count": null,
   "id": "1485314b-f493-46d0-a82e-9ed9b7e01935",
   "metadata": {},
   "outputs": [],
   "source": []
  }
 ],
 "metadata": {
  "kernelspec": {
   "display_name": "Python 3 (ipykernel)",
   "language": "python",
   "name": "python3"
  },
  "language_info": {
   "codemirror_mode": {
    "name": "ipython",
    "version": 3
   },
   "file_extension": ".py",
   "mimetype": "text/x-python",
   "name": "python",
   "nbconvert_exporter": "python",
   "pygments_lexer": "ipython3",
   "version": "3.8.13"
  }
 },
 "nbformat": 4,
 "nbformat_minor": 5
}
