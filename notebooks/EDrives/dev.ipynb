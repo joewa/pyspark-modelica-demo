{
 "cells": [
  {
   "cell_type": "markdown",
   "id": "abb917f3-cbc8-4a6a-84d0-400887d8d563",
   "metadata": {},
   "source": [
    "# Creating a conda package from a Modelica Model\n",
    "This example illustrates how to develop, run, test(, repeat) a Modelica model in a (local) pandas/pyspark environment that can be deployed in a cluster as a conda package for large scale analytics.\n",
    "- Build and compile the model once\n",
    "- Make it a conda package\n",
    "- Call the compiled model with different input data\n",
    "- Use it on scale. Change parameters only during runtime.\n",
    "\n",
    "See https://openmodelica.org/doc/OpenModelicaUsersGuide/v1.11.0/ompython.html"
   ]
  },
  {
   "cell_type": "code",
   "execution_count": null,
   "id": "2f86fe2a-74d6-418f-88ec-327c2a2c4e59",
   "metadata": {},
   "outputs": [],
   "source": [
    "import pandas as  pd\n",
    "import os\n",
    "import sys\n",
    "import json\n",
    "import tempfile\n",
    "import importlib"
   ]
  },
  {
   "cell_type": "code",
   "execution_count": null,
   "id": "ccf7ecb1-9b15-4e30-bac0-f572cf1438ce",
   "metadata": {},
   "outputs": [],
   "source": [
    "# Finds the package in the repo instead of the installed one\n",
    "sys.path.insert(0, '../../src')"
   ]
  },
  {
   "cell_type": "code",
   "execution_count": null,
   "id": "d7edd8f9-aa42-4602-a6e1-a5893e54926b",
   "metadata": {},
   "outputs": [],
   "source": [
    "import DyMat"
   ]
  },
  {
   "cell_type": "markdown",
   "id": "cf3d604f-f3ae-42b7-9e7e-af393c0e5c9d",
   "metadata": {},
   "source": [
    "## Parametric simulation without OMC\n",
    "https://openmodelica.org/doc/OpenModelicaUsersGuide/latest/scripting_api.html#simulation-parameter-sweep"
   ]
  },
  {
   "cell_type": "code",
   "execution_count": null,
   "id": "4c38dc45-3fe6-4cb8-8ad1-219e8dbd8c11",
   "metadata": {},
   "outputs": [],
   "source": [
    "from ModelicaModels import EDrives"
   ]
  },
  {
   "cell_type": "code",
   "execution_count": null,
   "id": "14480884-5bf6-4ae6-971e-385de080fa51",
   "metadata": {},
   "outputs": [],
   "source": [
    "mod = EDrives.instantiatemodel(\"EDrives.Examples.DCDC.DC_Drive_Continuous\")  # EDrives.Examples.DCDC.DC_Drive_Switching\"\n",
    "mod.getParameters(['dMax', 'dMin', 'tauNominal', 'dcpmData'])"
   ]
  },
  {
   "cell_type": "code",
   "execution_count": null,
   "id": "5f240f5f-f38b-48f1-994b-a44e8cd419b7",
   "metadata": {},
   "outputs": [],
   "source": [
    "p = pd.to_numeric(pd.Series(mod.getParameters()), errors='coerce')"
   ]
  },
  {
   "cell_type": "code",
   "execution_count": null,
   "id": "ed465bf9-2faf-4c85-9777-1b38da538b7f",
   "metadata": {},
   "outputs": [],
   "source": [
    "p['dcpmData.VaNominal'] "
   ]
  },
  {
   "cell_type": "code",
   "execution_count": null,
   "id": "c544d1be-6743-4e6e-8684-99d00bc548e5",
   "metadata": {},
   "outputs": [],
   "source": [
    "dMin = float(mod.getParameters([\"dMin\"])[0])\n",
    "dMax = 1.0 - dMin\n",
    "tauNominal=p['dcpmData.VaNominal'] * p['dcpmData.IaNominal'] / p['dcpmData.wNominal']  # The mode uses ViNominal"
   ]
  },
  {
   "cell_type": "code",
   "execution_count": null,
   "id": "654e8a1c-e93a-48db-8358-2979b89f1fac",
   "metadata": {},
   "outputs": [],
   "source": [
    "ts_df1 = pd.DataFrame(columns=[\n",
    "    'time', 'value'], data=[\n",
    "    [0.0, 0.5],\n",
    "    [3.0, 0.5],\n",
    "    [4.0, dMax],\n",
    "    [12.0, dMax],\n",
    "    [13.0, dMin],\n",
    "    [21.0, dMin],\n",
    "    [22.0, 0.5],\n",
    "    [24.0, 0.5],    \n",
    "])\n",
    "ts_df1['input'] = 'dutyCycle_series'\n",
    "ts_df2 = pd.DataFrame(columns=[\n",
    "    'time', 'value'], data=[\n",
    "    [0.0, 0.0],\n",
    "    [6.0, 0.0],\n",
    "    [7.0, -tauNominal],\n",
    "    [9.0, -tauNominal],\n",
    "    [10.0, tauNominal],\n",
    "    [15.0, tauNominal],\n",
    "    [16.0, -tauNominal],\n",
    "    [18.0, -tauNominal],\n",
    "    [19.0, 0.0],\n",
    "    [24.0, 0.0],\n",
    "])\n",
    "ts_df2['input'] = 'loadTorque_Series'\n",
    "ts_df = pd.concat([ts_df1, ts_df2], ignore_index=True)\n",
    "# ts_df['run_key'] = 'r1'\n",
    "ts_df = ts_df.pivot(index='time', columns='input', values='value').ffill().reset_index()#.drop('input', axis=1)\n",
    "ts_df['run_key'] = 'r1'\n",
    "#ts_df.to_csv('test.csv', sep=',', line_terminator=',\\n')"
   ]
  },
  {
   "cell_type": "code",
   "execution_count": null,
   "id": "084309d9-22be-4542-8a78-9c2c502fbae9",
   "metadata": {},
   "outputs": [],
   "source": [
    "ts_df['modifiers'] = json.dumps({'stopTime': 5.0})"
   ]
  },
  {
   "cell_type": "markdown",
   "id": "f0587295-9641-4c05-bd3a-e5df4356cce7",
   "metadata": {
    "tags": []
   },
   "source": [
    "### Sequential execution"
   ]
  },
  {
   "cell_type": "code",
   "execution_count": null,
   "id": "aa402c60-42ca-4799-b512-d56befbfc069",
   "metadata": {},
   "outputs": [],
   "source": [
    "mod.getContinuous()  # list of states"
   ]
  },
  {
   "cell_type": "code",
   "execution_count": null,
   "id": "c1b5b9fa-da11-4687-aad2-a7238e2cb0e5",
   "metadata": {},
   "outputs": [],
   "source": [
    "def dymat2pandas(dm, block, names) -> pd.DataFrame:\n",
    "    ts_df = pd.DataFrame(dm.getVarArray(names)).T\n",
    "    #ts_df['time'] = dm.abscissa(2)\n",
    "    ts_df.columns=['time'] + names\n",
    "    return ts_df\n",
    "\n",
    "\n",
    "def run_sim_parametric(pdf, modelwrapper_name=None, model_name=None, res_vars=None, use_local=True) -> pd.DataFrame:\n",
    "    \"\"\"Simulation of a single run. The unique run identifier is in the column run_key.\"\"\"\n",
    "    if use_local:\n",
    "        modelwrapper = importlib.import_module(modelwrapper_name)\n",
    "        mod = modelwrapper.instantiatemodel(model_name)\n",
    "    else:\n",
    "        mod = instantiatemodel(model_name, use_local=False)\n",
    "    log_str = ''\n",
    "    print(pdf)\n",
    "    if 'time' in pdf.columns:\n",
    "        pdf = pdf.sort_values('time').reset_index()\n",
    "    temp_dir = tempfile.gettempdir()\n",
    "    grp = pdf['run_key'].iloc[0]\n",
    "    resfilename = mod.modelName + '_' + grp + '.mat'\n",
    "    resfilepathname = os.path.join(temp_dir, resfilename)\n",
    "    # mod.setParameters(pdf['modifiers'].iloc[0])  # Seems to be not implemented in OMPython\n",
    "    # We might need to encode the dictonary as json when using pyspark\n",
    "    if 'modifiers' in pdf.columns:\n",
    "        overridevariables = json.loads(pdf['modifiers'].iloc[0])\n",
    "        if len(overridevariables) > 0:\n",
    "            mod.overridevariables = overridevariables\n",
    "        pdf.drop('modifiers', axis=1, inplace=True)\n",
    "    inputs_required = set(mod.getInputs().keys())\n",
    "    if len(inputs_required) > 0:\n",
    "        inputs_available = set(pdf.columns)\n",
    "        if inputs_available.intersection(inputs_required) != inputs_required:\n",
    "            raise ValueError(\n",
    "                'The required input series not provided in the DataFrame.\\nRequired: {0}. Provided:{1}'.format(\n",
    "                    str(inputs_required), str(inputs_available)\n",
    "                )\n",
    "            )\n",
    "        # print(str(['time']+list(mod.getInputs().keys())))\n",
    "        pdf = pdf[['time']+list(mod.getInputs().keys())]\n",
    "        # Write csv file and tell the model class\n",
    "        mod.csvFile = os.path.join(temp_dir, mod.modelName + '_' + grp + '_inputs.csv')\n",
    "        pdf.to_csv(mod.csvFile, sep=',', line_terminator=',\\n')\n",
    "        mod.inputFlag = True\n",
    "        if 'stopTime' in mod.overridevariables:\n",
    "            stopTime = float(mod.overridevariables.pop('stopTime'))\n",
    "        else:\n",
    "            stopTime = float(pdf['time'].max())\n",
    "        # Run the simulation\n",
    "        log_str += str(mod.simulate(\n",
    "            resultfile=resfilepathname,\n",
    "            simflags=None,\n",
    "            #overrideaux='variableFilter=\"'+'|'.join(list(res_vars))+'\"'\n",
    "            overrideaux='stopTime={0},'.format(stopTime) + 'variableFilter=\"'+'|'.join(res_vars)+'\"'\n",
    "        ))\n",
    "    else:\n",
    "        # Run the simulation\n",
    "        log_str += str(mod.simulate(\n",
    "            resultfile=resfilepathname,\n",
    "            simflags=None\n",
    "        ))\n",
    "    print(log_str)\n",
    "    if len(mod.csvFile) > 0:\n",
    "        os.remove(mod.csvFile)\n",
    "    # Collect results\n",
    "    if isinstance(res_vars, tuple):\n",
    "        res_vars = list(res_vars)\n",
    "    try:\n",
    "        dm = DyMat.DyMatFile(resfilepathname)\n",
    "        ts_df = dymat2pandas(dm, 2, res_vars)\n",
    "        #os.remove(resfilepathname)\n",
    "    except Exception as e:\n",
    "        ts_df = pd.DataFrame(columns=['time'] + res_vars, data=[[-1.0 ,0.0, 0.0]])\n",
    "    ts_df.columns = ['time'] + res_vars\n",
    "    ts_df['run_key'] = grp\n",
    "    # print(ts_df.head(3))\n",
    "    return ts_df\n",
    "\n",
    "\n",
    "def get_sim_dist_func(modelwrapper, modelname, run_fun=run_sim_parametric, res_vars=None, use_local=True):\n",
    "    \"\"\"Return the pandas (udf) function to simulate a set of runs.\"\"\"\n",
    "    modelwrapperName = modelwrapper.__name__\n",
    "    def run_sim_dist(pdf) -> pd.DataFrame():\n",
    "        return run_fun(\n",
    "            pdf,\n",
    "            modelwrapper_name=modelwrapperName, model_name=modelname, res_vars=res_vars,\n",
    "            use_local=use_local\n",
    "        )\n",
    "    return run_sim_dist"
   ]
  },
  {
   "cell_type": "code",
   "execution_count": null,
   "id": "5dd39c4e-46d8-4303-b552-32751262cd4e",
   "metadata": {},
   "outputs": [],
   "source": [
    "res_pars = ['dcpm.wMechanical', 'constantVoltage.i', 'dcpm.brush.i', 'torque.tau', 'hBridge.ref']"
   ]
  },
  {
   "cell_type": "code",
   "execution_count": null,
   "id": "c0f097f9-8537-4b58-b915-8092e2a5e6bd",
   "metadata": {},
   "outputs": [],
   "source": [
    "%%time\n",
    "ts_all_df = ts_df.groupby(['run_key']).apply(\n",
    "        get_sim_dist_func(EDrives, 'EDrives.Examples.DCDC.DC_Drive_Continuous', res_vars=res_pars)\n",
    "    )"
   ]
  },
  {
   "cell_type": "code",
   "execution_count": null,
   "id": "fbff9e89-5b09-4e91-b865-906290ed68b4",
   "metadata": {},
   "outputs": [],
   "source": [
    "ts_sim_df = ts_all_df"
   ]
  },
  {
   "cell_type": "code",
   "execution_count": null,
   "id": "a25b3591-1310-4f4c-8186-b0121a94f235",
   "metadata": {},
   "outputs": [],
   "source": [
    "%matplotlib inline"
   ]
  },
  {
   "cell_type": "code",
   "execution_count": null,
   "id": "8b103d52-3377-425d-89cf-109eebb3b75c",
   "metadata": {},
   "outputs": [],
   "source": [
    "import matplotlib.pyplot as plt"
   ]
  },
  {
   "cell_type": "code",
   "execution_count": null,
   "id": "c8100fbf-4d9f-43a4-85be-25c987fc5cff",
   "metadata": {},
   "outputs": [],
   "source": [
    "for n, run_key in enumerate(ts_df['run_key'].unique()):\n",
    "    #ts_run_sim_pdf = ts_sim_sdf.where(F.col('run_key') == run_key).toPandas()\n",
    "    ts_run_sim_pdf = ts_sim_df[ts_sim_df['run_key'] == run_key]\n",
    "    plt.plot(ts_run_sim_pdf['time'], ts_run_sim_pdf['dcpm.wMechanical'])\n",
    "plt.show()"
   ]
  },
  {
   "cell_type": "code",
   "execution_count": null,
   "id": "d347d09b-2e3a-4c59-97af-16d927b4c5db",
   "metadata": {},
   "outputs": [],
   "source": [
    "for n, run_key in enumerate(ts_df['run_key'].unique()):\n",
    "    #ts_run_sim_pdf = ts_sim_sdf.where(F.col('run_key') == run_key).toPandas()\n",
    "    ts_run_sim_pdf = ts_sim_df[ts_sim_df['run_key'] == run_key]\n",
    "    plt.plot(ts_run_sim_pdf['time'], ts_run_sim_pdf['dcpm.brush.i'])\n",
    "    #plt.plot(ts_run_sim_pdf['time'], ts_run_sim_pdf['constantVoltage.i'])\n",
    "plt.show()"
   ]
  },
  {
   "cell_type": "markdown",
   "id": "b4797bcb-3f83-4f95-9b57-781439c957d4",
   "metadata": {},
   "source": [
    "### Parallel execution with Spark"
   ]
  },
  {
   "cell_type": "code",
   "execution_count": null,
   "id": "7ab56819-0c36-43c1-b9ce-9ec5c0d1d7ca",
   "metadata": {},
   "outputs": [],
   "source": [
    "ts_sdf = spark.createDataFrame(ts_df)\n",
    "ts_sdf.show(5)"
   ]
  },
  {
   "cell_type": "markdown",
   "id": "35f07118-0c2a-4ca2-9c05-d7460da03280",
   "metadata": {},
   "source": [
    "### Parallel execution"
   ]
  },
  {
   "cell_type": "code",
   "execution_count": null,
   "id": "0108a3d0-969a-4a2f-880d-28ee34bd350e",
   "metadata": {},
   "outputs": [],
   "source": [
    "from pyspark.sql import functions as F, types as T"
   ]
  },
  {
   "cell_type": "code",
   "execution_count": null,
   "id": "a4e629d7-90fc-49dd-a065-177d21e993a1",
   "metadata": {},
   "outputs": [],
   "source": [
    "from ModelicaRuntimeTools import addpymodules"
   ]
  },
  {
   "cell_type": "code",
   "execution_count": null,
   "id": "f85592cb-2e09-4d51-9ea7-3af84faa86b8",
   "metadata": {},
   "outputs": [],
   "source": [
    "sc = spark.sparkContext"
   ]
  },
  {
   "cell_type": "code",
   "execution_count": null,
   "id": "7183c806-a472-4072-893b-ac2603531967",
   "metadata": {},
   "outputs": [],
   "source": [
    "addpymodules(['../../src/DyMat'], 'mdymat.zip', sc=sc, dironly=True)\n",
    "addpymodules(['../../src/OMPython'], 'mOMPython.zip', sc=sc, dironly=True)"
   ]
  },
  {
   "cell_type": "code",
   "execution_count": null,
   "id": "d6a74d2c-e089-4175-a3f3-55ad52636f1e",
   "metadata": {},
   "outputs": [],
   "source": [
    "# Run the model wrapper module in the current namespace\n",
    "modelwrapper_pyfile = EDrives.__file__"
   ]
  },
  {
   "cell_type": "code",
   "execution_count": null,
   "id": "62e29446-8462-4d9f-b84c-c01676ce31ca",
   "metadata": {},
   "outputs": [],
   "source": [
    "%run -i $modelwrapper_pyfile"
   ]
  },
  {
   "cell_type": "code",
   "execution_count": null,
   "id": "dbf9a3a0-1975-404b-a63a-d24cfc3ece94",
   "metadata": {},
   "outputs": [],
   "source": [
    "[T.StructField(p, T.DoubleType(), True) for p in res_pars]"
   ]
  },
  {
   "cell_type": "code",
   "execution_count": null,
   "id": "96764b73-7489-45a6-9a8b-c3cbcb609fa9",
   "metadata": {},
   "outputs": [],
   "source": [
    "from pyspark.sql import types as T, functions as F\n",
    "res_schema = T.StructType([\n",
    "    T.StructField(\"time\", T.DoubleType(), True)] + [\n",
    "        T.StructField(p, T.DoubleType(), True) for p in res_pars\n",
    "    ] + [\n",
    "    T.StructField(\"run_key\", T.StringType(), True),\n",
    "])\n",
    "# Running the parametric simulation\n",
    "\n",
    "ts_sim_d = {}\n",
    "ts_sim_d['Switching'] = ts_sdf.groupby(['run_key']).applyInPandas(\n",
    "        get_sim_dist_func(EDrives, 'EDrives.Examples.DCDC.DC_Drive_Switching', res_vars=res_pars, use_local=False), schema=res_schema,\n",
    "    ).cache()\n",
    "ts_sim_d['Continuous'] = ts_sdf.groupby(['run_key']).applyInPandas(\n",
    "        get_sim_dist_func(EDrives, 'EDrives.Examples.DCDC.DC_Drive_Continuous', res_vars=res_pars, use_local=False), schema=res_schema,\n",
    "    ).cache()"
   ]
  },
  {
   "cell_type": "code",
   "execution_count": null,
   "id": "9c469e8a-ca3b-41dd-8ea5-17318489f3e2",
   "metadata": {},
   "outputs": [],
   "source": [
    "ts_sim_d['Continuous'].show()"
   ]
  },
  {
   "cell_type": "code",
   "execution_count": null,
   "id": "c7cca2f8-8f64-4acb-9236-b8bd2a025d6e",
   "metadata": {},
   "outputs": [],
   "source": [
    "runs_list = [r[0] for r in ts_sdf.select('run_key').distinct().toLocalIterator()]"
   ]
  },
  {
   "cell_type": "code",
   "execution_count": null,
   "id": "e538c2cd-5852-4832-ab8a-109084237b96",
   "metadata": {},
   "outputs": [],
   "source": [
    "%matplotlib inline"
   ]
  },
  {
   "cell_type": "code",
   "execution_count": null,
   "id": "0b05f4be-5729-4962-a8d8-b23b1122a312",
   "metadata": {},
   "outputs": [],
   "source": [
    "import matplotlib.pyplot as plt"
   ]
  },
  {
   "cell_type": "code",
   "execution_count": null,
   "id": "9b6e1797-c31f-4c98-8bfc-b24fe9ef4f61",
   "metadata": {},
   "outputs": [],
   "source": [
    "%%time\n",
    "plt.figure().clear()\n",
    "for n, run_key in enumerate(runs_list):\n",
    "    fig = plt.figure(n)\n",
    "    ax1 = fig.add_subplot(411)\n",
    "    ax2 = fig.add_subplot(412, sharex=ax1)\n",
    "    ax3 = fig.add_subplot(413, sharex=ax1)\n",
    "    ax4 = fig.add_subplot(414, sharex=ax1)\n",
    "    fig.tight_layout()\n",
    "    ax1.set_title('hBridge.ref')\n",
    "    wMechanical_h_list = []\n",
    "    i_h_list = []\n",
    "    for variant in ts_sim_d.keys():\n",
    "        ts_run_sim_pdf = ts_sim_d[variant].where(F.col('run_key') == run_key).toPandas()\n",
    "        wMechanical_h, = ax3.plot(ts_run_sim_pdf['time'], ts_run_sim_pdf['dcpm.wMechanical'], label=variant)\n",
    "        i_h, = ax4.plot(ts_run_sim_pdf['time'], ts_run_sim_pdf['dcpm.brush.i'], label=variant)\n",
    "        wMechanical_h_list.append(wMechanical_h)\n",
    "        i_h_list.append(i_h)\n",
    "    hBridge_ref, = ax1.plot(ts_run_sim_pdf['time'], ts_run_sim_pdf['hBridge.ref'], label='hBridge.ref')\n",
    "    tau_ref, = ax2.plot(ts_run_sim_pdf['time'], ts_run_sim_pdf['torque.tau'], label='tau')\n",
    "    ax3.legend(handles=wMechanical_h_list)\n",
    "    ax4.legend(handles=i_h_list)\n",
    "    fig.show()"
   ]
  },
  {
   "cell_type": "code",
   "execution_count": null,
   "id": "2647bf55-50a5-4677-a766-f54979413ae8",
   "metadata": {},
   "outputs": [],
   "source": []
  }
 ],
 "metadata": {
  "kernelspec": {
   "display_name": "Python 3 (ipykernel)",
   "language": "python",
   "name": "python3"
  },
  "language_info": {
   "codemirror_mode": {
    "name": "ipython",
    "version": 3
   },
   "file_extension": ".py",
   "mimetype": "text/x-python",
   "name": "python",
   "nbconvert_exporter": "python",
   "pygments_lexer": "ipython3",
   "version": "3.8.13"
  }
 },
 "nbformat": 4,
 "nbformat_minor": 5
}
