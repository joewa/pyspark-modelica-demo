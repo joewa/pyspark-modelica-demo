{
 "cells": [
  {
   "cell_type": "markdown",
   "id": "abb917f3-cbc8-4a6a-84d0-400887d8d563",
   "metadata": {},
   "source": [
    "# Interactive development workflow\n",
    "This example illustrates how to develop, run, test(, repeat) a Modelica model in a (local) pandas environment, enabling quick iterations to analyze and tune the model before going to Big Data.\n",
    "\n",
    "To run the example of the parametric simulation you need to run one of the following sections to build the model executeables.\n",
    "\n",
    "See https://openmodelica.org/doc/OpenModelicaUsersGuide/v1.11.0/ompython.html"
   ]
  },
  {
   "cell_type": "code",
   "execution_count": null,
   "id": "2f86fe2a-74d6-418f-88ec-327c2a2c4e59",
   "metadata": {},
   "outputs": [],
   "source": [
    "import pandas as  pd\n",
    "import os\n",
    "import sys"
   ]
  },
  {
   "cell_type": "code",
   "execution_count": null,
   "id": "ccf7ecb1-9b15-4e30-bac0-f572cf1438ce",
   "metadata": {},
   "outputs": [],
   "source": [
    "# Finds the package in the repo instead of the installed one\n",
    "sys.path.insert(0, '../../../src')"
   ]
  },
  {
   "cell_type": "code",
   "execution_count": null,
   "id": "b44c5dc2-e2cf-4d32-be02-ca948536fd2e",
   "metadata": {},
   "outputs": [],
   "source": [
    "import OMPython"
   ]
  },
  {
   "cell_type": "code",
   "execution_count": null,
   "id": "087a844c-9cb6-4ac7-b071-77f5bb9326c9",
   "metadata": {},
   "outputs": [],
   "source": [
    "import tempfile\n",
    "import json\n",
    "import importlib\n",
    "from OMPython import ModelicaSystem\n",
    "from ModelicaModels import BouncingBall\n",
    "import DyMat"
   ]
  },
  {
   "cell_type": "markdown",
   "id": "81a3b3ef-c905-4754-8907-cc0073ab1c38",
   "metadata": {},
   "source": [
    "## Either Build model and run simulation with interactive OMC session...\n",
    "This section demonstrates how to simulate and of the model using the [OMPython API](https://www.openmodelica.org/doc/OpenModelicaUsersGuide/latest/ompython.html) ***with*** a connection to omc enabling the the manipulation of parameters through `setParameters`."
   ]
  },
  {
   "cell_type": "code",
   "execution_count": null,
   "id": "a2c84299-b6cf-4c63-8d6c-86b069b168b9",
   "metadata": {},
   "outputs": [],
   "source": [
    "# mod = BouncingBall.instantiatemodel()  # Does NOT connect to omc\n",
    "modelname = BouncingBall.modelName\n",
    "# xmlFilePath = os.path.join(SETUP_DIR, 'ModelicaModels', 'build', modelname)\n",
    "mod = ModelicaSystem(  # connects to omc\n",
    "        fileName=os.path.dirname(BouncingBall.__file__) + '/' + modelname+\".mo\",\n",
    "        modelName=modelname,\n",
    "    )"
   ]
  },
  {
   "cell_type": "code",
   "execution_count": null,
   "id": "c67aa5c1-9a4c-4a4f-9b83-5e641198d95e",
   "metadata": {},
   "outputs": [],
   "source": [
    "sim_options_d = mod.getSimulationOptions()\n",
    "sim_options_d['stopTime'] = 2\n",
    "mod.setSimulationOptions(sim_options_d)"
   ]
  },
  {
   "cell_type": "code",
   "execution_count": null,
   "id": "1213f1d0-bec9-4919-9f67-f24e6088cf1e",
   "metadata": {},
   "outputs": [],
   "source": [
    "mod.getSimulationOptions()"
   ]
  },
  {
   "cell_type": "code",
   "execution_count": null,
   "id": "03ed2656-3e92-4b62-a845-4850f9fd9c39",
   "metadata": {},
   "outputs": [],
   "source": [
    "%%time\n",
    "resfilename = os.path.join(tempfile.gettempdir(), 'b.mat')\n",
    "mod.setParameters(\"e=0.2\")  # works in interactive mode only\n",
    "mod.simulate(resultfile=resfilename, simflags=None)"
   ]
  },
  {
   "cell_type": "code",
   "execution_count": null,
   "id": "bca0c8dd-6043-4c43-a7c3-a870df47632e",
   "metadata": {},
   "outputs": [],
   "source": [
    "# Needs connection to omc\n",
    "vars = mod.getSolutions()\n",
    "vars"
   ]
  },
  {
   "cell_type": "code",
   "execution_count": null,
   "id": "4c47b1a3-5940-442a-ae81-747929efe1eb",
   "metadata": {},
   "outputs": [],
   "source": [
    "%%time\n",
    "# TODO Loading results (from mat-file) is very slow\n",
    "data = mod.getSolutions(varList=list(vars), resultfile=resfilename)\n",
    "ts_df = pd.DataFrame(data).T\n",
    "ts_df.columns = vars\n",
    "ts_df"
   ]
  },
  {
   "cell_type": "code",
   "execution_count": null,
   "id": "6fa8b3ee-93d6-4b60-baeb-c67f8ba10850",
   "metadata": {},
   "outputs": [],
   "source": [
    "%matplotlib inline\n",
    "#%matplotlib notebook\n",
    "import matplotlib.pyplot as plt"
   ]
  },
  {
   "cell_type": "code",
   "execution_count": null,
   "id": "21fadc1c-a4c1-4f7c-bb81-449b203ddc3e",
   "metadata": {},
   "outputs": [],
   "source": [
    "fig, ax = plt.subplots(figsize=(5,3.5))\n",
    "ax.plot(ts_df['time'], ts_df['h'])\n",
    "plt.tight_layout()"
   ]
  },
  {
   "cell_type": "markdown",
   "id": "b1e6fa27-dd37-4dcb-ab69-4ea0e8f5ad56",
   "metadata": {},
   "source": [
    "## Or build a model without connecting to OMC\n",
    "This section demonstrate how to build a model using modelica `*.mos` script files ***without*** connection to omc."
   ]
  },
  {
   "cell_type": "code",
   "execution_count": null,
   "id": "1485314b-f493-46d0-a82e-9ed9b7e01935",
   "metadata": {},
   "outputs": [],
   "source": [
    "BouncingBall.create_mos_file()  # creates a *.mos file next to the location of BouncingBall"
   ]
  },
  {
   "cell_type": "code",
   "execution_count": null,
   "id": "f2c58ed9-e323-4a5a-b355-8a8a02925da2",
   "metadata": {},
   "outputs": [],
   "source": [
    "r = BouncingBall.run_mos_file()  # builds the model executable in the current working directory"
   ]
  },
  {
   "cell_type": "code",
   "execution_count": null,
   "id": "a77a1894-8408-4ba0-a23a-368c3fef03b7",
   "metadata": {},
   "outputs": [],
   "source": [
    "r"
   ]
  },
  {
   "cell_type": "markdown",
   "id": "f62c34f2-cda9-4d0e-a32e-2b10bfc7ede8",
   "metadata": {},
   "source": [
    "## Parametric simulation without connecting to omc\n",
    "Parameters can be provided to precompiled models as arguments - without connecting or even requiring omc. `instantiatemodel('BouncingBall')` looks for the model (*BouncingBall_init.xml*) in the current working directory (when created by the section above) or in *src/ModelicaModels/build/BouncingBall* when created via `python setup.py build`.\n",
    "\n",
    "See also: https://openmodelica.org/doc/OpenModelicaUsersGuide/latest/scripting_api.html#simulation-parameter-sweep"
   ]
  },
  {
   "cell_type": "code",
   "execution_count": null,
   "id": "3386e983-46c5-4d4e-b21a-2bc858b3f11b",
   "metadata": {},
   "outputs": [],
   "source": [
    "from ModelicaModels import BouncingBall"
   ]
  },
  {
   "cell_type": "code",
   "execution_count": null,
   "id": "643f386f-4715-4167-8692-7a852e07a2dd",
   "metadata": {},
   "outputs": [],
   "source": [
    "parameters_var_df = pd.DataFrame(columns=['run_key', 'modifiers'], data=[\n",
    "    ['r1', {'e': 0.7, 'stopTime': 3.0}],\n",
    "    ['r2', {'e': 0.5, 'stopTime': 3.0}],\n",
    "    ['r3', {'e': 0.9, 'stopTime': 3.0}],\n",
    "])\n",
    "parameters_var_df['modifiers'] = parameters_var_df['modifiers'].apply(json.dumps)\n",
    "parameters_var_df"
   ]
  },
  {
   "cell_type": "markdown",
   "id": "4562ee6f-5780-4d48-95a8-09d8e2df5880",
   "metadata": {},
   "source": [
    "### Sequential execution"
   ]
  },
  {
   "cell_type": "code",
   "execution_count": null,
   "id": "a8defd3e-14e8-408f-9f8d-a991c8da682f",
   "metadata": {},
   "outputs": [],
   "source": [
    "mod = BouncingBall.instantiatemodel('BouncingBall')"
   ]
  },
  {
   "cell_type": "code",
   "execution_count": null,
   "id": "b4f406fc-dc5a-4f8c-854a-4eac2f6d1794",
   "metadata": {},
   "outputs": [],
   "source": [
    "mod.overridevariables"
   ]
  },
  {
   "cell_type": "code",
   "execution_count": null,
   "id": "36eb0d0a-2522-4526-b955-120c413dccc4",
   "metadata": {},
   "outputs": [],
   "source": [
    "mod.getParameters()"
   ]
  },
  {
   "cell_type": "code",
   "execution_count": null,
   "id": "f7e5b80d-c69d-474c-8e33-1e8b589cf867",
   "metadata": {},
   "outputs": [],
   "source": [
    "def dymat2pandas(dm, block, names) -> pd.DataFrame:\n",
    "    ts_df = pd.DataFrame(dm.getVarArray(names)).T\n",
    "    #ts_df['time'] = dm.abscissa(2)\n",
    "    ts_df.columns=['time'] + names\n",
    "    return ts_df\n",
    "\n",
    "\n",
    "def run_sim_parametric(pdf, modelwrapper_name=None, model_name=None, res_vars=None, use_local=True) -> pd.DataFrame:\n",
    "    \"\"\"Simulation of a single run. The unique run identifier is in the column run_key.\"\"\"\n",
    "    if use_local:\n",
    "        modelwrapper = importlib.import_module(modelwrapper_name)\n",
    "        mod = modelwrapper.instantiatemodel(model_name)\n",
    "    else:\n",
    "        mod = instantiatemodel(model_name, use_local=False)\n",
    "    log_str = ''\n",
    "    print(pdf)\n",
    "    if 'time' in pdf.columns:\n",
    "        pdf = pdf.sort_values('time').reset_index()\n",
    "    temp_dir = tempfile.gettempdir()\n",
    "    grp = pdf['run_key'].iloc[0]\n",
    "    resfilename = mod.modelName + '_' + grp + '.mat'\n",
    "    resfilepathname = os.path.join(temp_dir, resfilename)\n",
    "    # mod.setParameters(pdf['modifiers'].iloc[0])  # Seems to be not implemented in OMPython\n",
    "    # We might need to encode the dictonary as json when using pyspark\n",
    "    if 'modifiers' in pdf.columns:\n",
    "        overridevariables = json.loads(pdf['modifiers'].iloc[0])\n",
    "        if len(overridevariables) > 0:\n",
    "            mod.overridevariables = overridevariables\n",
    "        pdf.drop('modifiers', axis=1, inplace=True)\n",
    "    inputs_required = set(mod.getInputs().keys())\n",
    "    if len(inputs_required) > 0:\n",
    "        inputs_available = set(pdf.columns)\n",
    "        if inputs_available.intersection(inputs_required) != inputs_required:\n",
    "            raise ValueError(\n",
    "                'The required input series not provided in the DataFrame.\\nRequired: {0}. Provided:{1}'.format(\n",
    "                    str(inputs_required), str(inputs_available)\n",
    "                )\n",
    "            )\n",
    "        # print(str(['time']+list(mod.getInputs().keys())))\n",
    "        pdf = pdf[['time']+list(mod.getInputs().keys())]\n",
    "        # Write csv file and tell the model class\n",
    "        mod.csvFile = os.path.join(temp_dir, mod.modelName + '_' + grp + '_inputs.csv')\n",
    "        pdf.to_csv(mod.csvFile, sep=',', line_terminator=',\\n')\n",
    "        mod.inputFlag = True\n",
    "        if 'stopTime' in mod.overridevariables:\n",
    "            stopTime = float(mod.overridevariables.pop('stopTime'))\n",
    "        else:\n",
    "            stopTime = float(pdf['time'].max())\n",
    "        # Run the simulation\n",
    "        log_str += str(mod.simulate(\n",
    "            resultfile=resfilepathname,\n",
    "            simflags=None,\n",
    "            #overrideaux='variableFilter=\"'+'|'.join(list(res_vars))+'\"'\n",
    "            overrideaux='stopTime={0},'.format(stopTime) + 'variableFilter=\"'+'|'.join(res_vars)+'\"'\n",
    "        ))\n",
    "    else:\n",
    "        # Run the simulation\n",
    "        log_str += str(mod.simulate(\n",
    "            resultfile=resfilepathname,\n",
    "            simflags=None\n",
    "        ))\n",
    "    print(log_str)\n",
    "    if len(mod.csvFile) > 0:\n",
    "        os.remove(mod.csvFile)\n",
    "    # Collect results\n",
    "    if isinstance(res_vars, tuple):\n",
    "        res_vars = list(res_vars)\n",
    "    try:\n",
    "        dm = DyMat.DyMatFile(resfilepathname)\n",
    "        ts_df = dymat2pandas(dm, 2, res_vars)\n",
    "        #os.remove(resfilepathname)\n",
    "    except Exception as e:\n",
    "        ts_df = pd.DataFrame(columns=['time'] + res_vars, data=[[-1.0 ,0.0, 0.0]])\n",
    "    ts_df.columns = ['time'] + res_vars\n",
    "    ts_df['run_key'] = grp\n",
    "    # print(ts_df.head(3))\n",
    "    return ts_df\n",
    "\n",
    "\n",
    "def get_sim_dist_func(modelwrapper, modelname, run_fun=run_sim_parametric, res_vars=None, use_local=True):\n",
    "    \"\"\"Return the pandas (udf) function to simulate a set of runs.\"\"\"\n",
    "    modelwrapperName = modelwrapper.__name__\n",
    "    def run_sim_dist(pdf) -> pd.DataFrame():\n",
    "        return run_fun(\n",
    "            pdf,\n",
    "            modelwrapper_name=modelwrapperName, model_name=modelname, res_vars=res_vars,\n",
    "            use_local=use_local\n",
    "        )\n",
    "    return run_sim_dist"
   ]
  },
  {
   "cell_type": "code",
   "execution_count": null,
   "id": "fb12014c-ebc1-4572-a7d7-087f597c8263",
   "metadata": {},
   "outputs": [],
   "source": [
    "%%time\n",
    "ts_all_df = parameters_var_df.groupby(['run_key']).apply(\n",
    "        get_sim_dist_func(BouncingBall, 'BouncingBall', res_vars=['h', 'v'])\n",
    "    )"
   ]
  },
  {
   "cell_type": "code",
   "execution_count": null,
   "id": "66a5dd2a-ea4b-4de1-a688-0a5a5934d4fb",
   "metadata": {},
   "outputs": [],
   "source": [
    "ts_all_df"
   ]
  },
  {
   "cell_type": "code",
   "execution_count": null,
   "id": "94787f49-b8a1-4106-8910-980076974d1f",
   "metadata": {},
   "outputs": [],
   "source": [
    "%matplotlib inline"
   ]
  },
  {
   "cell_type": "code",
   "execution_count": null,
   "id": "dfecf7b9-9519-4d51-867d-7cee73836b4e",
   "metadata": {},
   "outputs": [],
   "source": [
    "import matplotlib.pyplot as plt"
   ]
  },
  {
   "cell_type": "code",
   "execution_count": null,
   "id": "0b4567e8-4894-4865-81f7-0d8848700acc",
   "metadata": {},
   "outputs": [],
   "source": [
    "p_df = ts_all_df[[\n",
    "    'time', 'run_key', 'h'\n",
    "]].reset_index(drop=True).drop_duplicates(subset=['time', 'run_key'])\n",
    "p_df.pivot(index='time',columns='run_key', values='h').plot()"
   ]
  },
  {
   "cell_type": "markdown",
   "id": "f0360ac2-b109-4f6e-a69f-62e75a3cc2b5",
   "metadata": {},
   "source": [
    "### Parallel execution with Spark"
   ]
  },
  {
   "cell_type": "code",
   "execution_count": null,
   "id": "be956fb1-de63-4912-8002-f68339753854",
   "metadata": {},
   "outputs": [],
   "source": [
    "parameters_var_sdf = spark.createDataFrame(parameters_var_df)\n",
    "parameters_var_sdf.show()"
   ]
  },
  {
   "cell_type": "code",
   "execution_count": null,
   "id": "98404b77-37e6-4cdf-9447-f0f33ef49b91",
   "metadata": {},
   "outputs": [],
   "source": [
    "parameters_var_sdf.toPandas()['modifiers'].iloc[0]"
   ]
  },
  {
   "cell_type": "markdown",
   "id": "5d49acd8-d51f-4b70-b161-6a5734a0be79",
   "metadata": {},
   "source": [
    "### Parallel execution"
   ]
  },
  {
   "cell_type": "code",
   "execution_count": null,
   "id": "55a14a7e-9743-4d26-a032-cb9cae0d810c",
   "metadata": {},
   "outputs": [],
   "source": [
    "from ModelicaRuntimeTools import addpymodules"
   ]
  },
  {
   "cell_type": "code",
   "execution_count": null,
   "id": "59b10c65-3690-4acc-8997-3412073690ea",
   "metadata": {},
   "outputs": [],
   "source": [
    "sc = spark.sparkContext"
   ]
  },
  {
   "cell_type": "code",
   "execution_count": null,
   "id": "65fee6e9-eead-4c1d-b2e6-49cc7867000f",
   "metadata": {},
   "outputs": [],
   "source": [
    "addpymodules([os.path.dirname(DyMat.__file__)], 'mdymat.zip', sc=sc, dironly=True)\n",
    "addpymodules([os.path.dirname(OMPython.__file__)], 'mOMPython.zip', sc=sc, dironly=True)"
   ]
  },
  {
   "cell_type": "code",
   "execution_count": null,
   "id": "05710768-2488-41b3-a4c7-0b261e5e897c",
   "metadata": {},
   "outputs": [],
   "source": [
    "# Run the model wrapper module in the current namespace\n",
    "modelwrapper_pyfile = BouncingBall.__file__"
   ]
  },
  {
   "cell_type": "code",
   "execution_count": null,
   "id": "a7666a87-1235-4c1a-935b-250c596614c8",
   "metadata": {},
   "outputs": [],
   "source": [
    "%run -i $modelwrapper_pyfile"
   ]
  },
  {
   "cell_type": "code",
   "execution_count": null,
   "id": "1f3f75ab-7abe-4d1a-bf67-f4fff0f9b41e",
   "metadata": {},
   "outputs": [],
   "source": [
    "instantiatemodel"
   ]
  },
  {
   "cell_type": "code",
   "execution_count": null,
   "id": "437ec105-64d9-45ca-922a-d8847cd86974",
   "metadata": {},
   "outputs": [],
   "source": [
    "from pyspark.sql import types as T, functions as F\n",
    "res_schema = T.StructType([\n",
    "    T.StructField(\"time\", T.DoubleType(), True),\n",
    "    T.StructField(\"h\", T.DoubleType(), True),\n",
    "    T.StructField(\"v\", T.DoubleType(), True),\n",
    "    T.StructField(\"run_key\", T.StringType(), True),\n",
    "])\n",
    "# Running the parametric simulation\n",
    "ts_sim_sdf = parameters_var_sdf.groupby(['run_key']).applyInPandas(\n",
    "        get_sim_dist_func(BouncingBall, 'BouncingBall', res_vars=['h', 'v'], use_local=False), schema=res_schema,\n",
    "    ).cache()"
   ]
  },
  {
   "cell_type": "code",
   "execution_count": null,
   "id": "4f3d1e1e-17a8-40fc-8214-50beaab4df2d",
   "metadata": {},
   "outputs": [],
   "source": [
    "ts_sim_sdf.show()"
   ]
  },
  {
   "cell_type": "code",
   "execution_count": null,
   "id": "9fcc134b-593b-4cc3-9fc6-b6d73cf1e28b",
   "metadata": {},
   "outputs": [],
   "source": [
    "for n, run_key in enumerate(parameters_var_df['run_key'].unique()):\n",
    "    ts_run_sim_pdf = ts_sim_sdf.where(F.col('run_key') == run_key).toPandas()\n",
    "    plt.plot(ts_run_sim_pdf['time'], ts_run_sim_pdf['h'])\n",
    "plt.show()"
   ]
  },
  {
   "cell_type": "code",
   "execution_count": null,
   "id": "d51c8caf-d060-4e9a-9f3b-ce05f4c8c208",
   "metadata": {},
   "outputs": [],
   "source": []
  }
 ],
 "metadata": {
  "kernelspec": {
   "display_name": "Python 3 (ipykernel)",
   "language": "python",
   "name": "python3"
  },
  "language_info": {
   "codemirror_mode": {
    "name": "ipython",
    "version": 3
   },
   "file_extension": ".py",
   "mimetype": "text/x-python",
   "name": "python",
   "nbconvert_exporter": "python",
   "pygments_lexer": "ipython3",
   "version": "3.8.13"
  }
 },
 "nbformat": 4,
 "nbformat_minor": 5
}
