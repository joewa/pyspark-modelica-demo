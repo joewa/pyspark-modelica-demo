{
 "cells": [
  {
   "cell_type": "markdown",
   "id": "abb917f3-cbc8-4a6a-84d0-400887d8d563",
   "metadata": {},
   "source": [
    "# Creating a conda package from a Modelica Model\n",
    "This example illustrates how to develop, run, test(, repeat) a Modelica model in a (local) pandas/pyspark environment that can be deployed in a cluster as a conda package for large scale analytics.\n",
    "- Build and compile the model once\n",
    "- Make it a conda package\n",
    "- Call the compiled model with different input data\n",
    "- Use it on scale. Change parameters only during runtime.\n",
    "\n",
    "See https://openmodelica.org/doc/OpenModelicaUsersGuide/v1.11.0/ompython.html"
   ]
  },
  {
   "cell_type": "code",
   "execution_count": null,
   "id": "2f86fe2a-74d6-418f-88ec-327c2a2c4e59",
   "metadata": {},
   "outputs": [],
   "source": [
    "import pandas as  pd\n",
    "import os\n",
    "import sys\n",
    "import tempfile\n",
    "import DyMat"
   ]
  },
  {
   "cell_type": "code",
   "execution_count": null,
   "id": "ccf7ecb1-9b15-4e30-bac0-f572cf1438ce",
   "metadata": {},
   "outputs": [],
   "source": [
    "# Finds the package in the repo instead of the installed one\n",
    "sys.path.insert(0, '../../src')"
   ]
  },
  {
   "cell_type": "markdown",
   "id": "cf3d604f-f3ae-42b7-9e7e-af393c0e5c9d",
   "metadata": {},
   "source": [
    "## Parametric simulation without OMC"
   ]
  },
  {
   "cell_type": "code",
   "execution_count": null,
   "id": "4c38dc45-3fe6-4cb8-8ad1-219e8dbd8c11",
   "metadata": {},
   "outputs": [],
   "source": [
    "from ModelicaModels import BouncingBall"
   ]
  },
  {
   "cell_type": "code",
   "execution_count": null,
   "id": "fdccda98-39dd-4397-8a4d-5437a468ce46",
   "metadata": {},
   "outputs": [],
   "source": [
    "fig, ax = plt.subplots(figsize=(5,3.5))\n",
    "ts_df  = dymat2pandas(dm, 2, ['h'])\n",
    "ax.plot(ts_df['time'], ts_df['h'])\n",
    "plt.tight_layout()"
   ]
  },
  {
   "cell_type": "code",
   "execution_count": null,
   "id": "6cf7c545-83b6-48e3-a33f-da13f7322b7c",
   "metadata": {},
   "outputs": [],
   "source": [
    "parameters_var_df = pd.DataFrame(columns=['run_key', 'modifiers'], data=[\n",
    "    ['r1', ['e=0.7']],\n",
    "    ['r2', ['e=0.5']],\n",
    "    ['r3', ['e=0.9']],\n",
    "])\n",
    "parameters_var_df"
   ]
  },
  {
   "cell_type": "markdown",
   "id": "f0587295-9641-4c05-bd3a-e5df4356cce7",
   "metadata": {},
   "source": [
    "### Sequential execution"
   ]
  },
  {
   "cell_type": "code",
   "execution_count": null,
   "id": "c1b5b9fa-da11-4687-aad2-a7238e2cb0e5",
   "metadata": {},
   "outputs": [],
   "source": [
    "def dymat2pandas(dm, block, names) -> pd.DataFrame:\n",
    "    ts_df = pd.DataFrame(dm.getVarArray(names)).T\n",
    "    #ts_df['time'] = dm.abscissa(2)\n",
    "    ts_df.columns=['time'] + names\n",
    "    return ts_df\n",
    "\n",
    "\n",
    "def run_sim(parameters, res_vars=None) -> pd.DataFrame:\n",
    "    \"\"\"Simulation of a single run. The unique run identifier is in the column run_key.\"\"\"\n",
    "    mod = BouncingBall.instantiatemodel()\n",
    "    log_str = ''\n",
    "    print(parameters)\n",
    "    temp_dir = tempfile.gettempdir()\n",
    "    grp = parameters['run_key'].iloc[0]\n",
    "    resfilename = grp + '.mat'\n",
    "    resfilepathname = os.path.join(temp_dir, resfilename)\n",
    "    mod.setParameters(parameters['modifiers'])\n",
    "    log_str += str(mod.simulate(resultfile=resfilepathname, simflags=None))\n",
    "    # Collect results\n",
    "    if isinstance(res_vars, tuple):\n",
    "        res_vars = list(res_vars)\n",
    "    try:\n",
    "        dm = DyMat.DyMatFile(resfilepathname)\n",
    "        ts_df = dymat2pandas(dm, 2, res_vars)\n",
    "        os.remove(resfilepathname)\n",
    "    except Exception as e:\n",
    "        ts_df = pd.DataFrame(columns=['time'] + res_vars, data=[[-1.0 ,0.0, 0.0]])\n",
    "    ts_df.columns = ['time'] + res_vars\n",
    "    ts_df['run_key'] = grp\n",
    "    return ts_df\n",
    "\n",
    "\n",
    "def get_sim_dist_func(res_vars=None):\n",
    "    \"\"\"Return the pandas (udf) function to simulate a set of runs.\"\"\"\n",
    "    def run_sim_dist(parameters) -> pd.DataFrame():\n",
    "        return run_sim(parameters, res_vars=res_vars)\n",
    "    return run_sim_dist\n"
   ]
  },
  {
   "cell_type": "code",
   "execution_count": null,
   "id": "db3b421d-bac9-46ac-8b4f-3d1ceae725fa",
   "metadata": {},
   "outputs": [],
   "source": [
    "ts_all_df = parameters_var_df.groupby(['run_key']).apply(\n",
    "        get_sim_dist_func(res_vars=['h', 'v'])\n",
    "    )"
   ]
  },
  {
   "cell_type": "code",
   "execution_count": null,
   "id": "eae09234-de63-441d-9df7-ae469ecf3f2d",
   "metadata": {},
   "outputs": [],
   "source": [
    "ts_all_df"
   ]
  },
  {
   "cell_type": "code",
   "execution_count": null,
   "id": "a25b3591-1310-4f4c-8186-b0121a94f235",
   "metadata": {},
   "outputs": [],
   "source": [
    "%matplotlib inline"
   ]
  },
  {
   "cell_type": "code",
   "execution_count": null,
   "id": "8b103d52-3377-425d-89cf-109eebb3b75c",
   "metadata": {},
   "outputs": [],
   "source": [
    "import matplotlib.pyplot as plt\n"
   ]
  },
  {
   "cell_type": "code",
   "execution_count": null,
   "id": "0ebc5edf-9982-4c8d-9c49-011de3e382f6",
   "metadata": {},
   "outputs": [],
   "source": [
    "p_df = ts_all_df[['run_key', 'h']].reset_index(drop=True)"
   ]
  },
  {
   "cell_type": "code",
   "execution_count": null,
   "id": "c4991d20-d3bf-4ba7-9fcb-55d65315baee",
   "metadata": {},
   "outputs": [],
   "source": [
    "fig, ax = plt.subplots(figsize=(8,6))\n",
    "for label, df in p_df.groupby('run_key'):\n",
    "    df['h'].plot(ax=ax, label=label)\n",
    "plt.legend()"
   ]
  },
  {
   "cell_type": "markdown",
   "id": "b4797bcb-3f83-4f95-9b57-781439c957d4",
   "metadata": {},
   "source": [
    "### Parallel execution with Spark"
   ]
  },
  {
   "cell_type": "code",
   "execution_count": null,
   "id": "874fc555-304a-4f88-9e01-7588d45cee7a",
   "metadata": {},
   "outputs": [],
   "source": [
    "parameters_var_sdf = spark.createDataFrame(parameters_var_df)\n",
    "parameters_var_sdf.show()"
   ]
  },
  {
   "cell_type": "markdown",
   "id": "35f07118-0c2a-4ca2-9c05-d7460da03280",
   "metadata": {},
   "source": [
    "### Parallel execution"
   ]
  },
  {
   "cell_type": "code",
   "execution_count": null,
   "id": "96764b73-7489-45a6-9a8b-c3cbcb609fa9",
   "metadata": {},
   "outputs": [],
   "source": [
    "from TestBouncingBall import run_bouncingball_spark"
   ]
  },
  {
   "cell_type": "code",
   "execution_count": null,
   "id": "1b770d25-f296-4e22-bde5-52fdf2fa2675",
   "metadata": {},
   "outputs": [],
   "source": [
    "ts_sim_sdf = run_bouncingball_spark(parameters_var_sdf)"
   ]
  },
  {
   "cell_type": "code",
   "execution_count": null,
   "id": "9c469e8a-ca3b-41dd-8ea5-17318489f3e2",
   "metadata": {},
   "outputs": [],
   "source": [
    "# ModuleNotFoundError: No module named 'OMPython'\n",
    "# Reason: The import is done from the worker, which is probably the desired behavior\n",
    "ts_sim_sdf.show()"
   ]
  },
  {
   "cell_type": "code",
   "execution_count": null,
   "id": "2647bf55-50a5-4677-a766-f54979413ae8",
   "metadata": {},
   "outputs": [],
   "source": []
  },
  {
   "cell_type": "code",
   "execution_count": null,
   "id": "057392bc-6d04-4a37-8441-5a22ef61e0cb",
   "metadata": {},
   "outputs": [],
   "source": [
    "T.StructType"
   ]
  },
  {
   "cell_type": "code",
   "execution_count": null,
   "id": "bb52f825-5692-4add-a239-cefde62781a9",
   "metadata": {},
   "outputs": [],
   "source": [
    "from pyspark.sql import functions as F, types as T"
   ]
  },
  {
   "cell_type": "code",
   "execution_count": null,
   "id": "90e1ef2f-3eb4-4f80-91bb-125efdbacf35",
   "metadata": {},
   "outputs": [],
   "source": [
    "res_schema = T.StructType([ \\\n",
    "    T.StructField(\"time\", T.DoubleType(),True), \\\n",
    "    T.StructField(\"h\", T.DoubleType(),True), \\\n",
    "    T.StructField(\"v\", T.DoubleType(),True), \\\n",
    "    T.StructField(\"run_key\", T.StringType(), True), \\\n",
    "  ])"
   ]
  },
  {
   "cell_type": "code",
   "execution_count": null,
   "id": "33c9011f-f0e9-40cc-b3cb-bd79ac097e46",
   "metadata": {},
   "outputs": [],
   "source": [
    "mod = ModelicaSystem(\n",
    "        fileName=instantiatemodel.fn, modelName=\"BouncingBall\",\n",
    "        xmlFileName=instantiatemodel.xmlfn\n",
    "    )\n",
    "\n",
    "ts_all_sdf = parameters_var_sdf.groupby('run_key').applyInPandas(\n",
    "    get_sim_dist_func(mod, res_vars=('h', 'v')), schema=res_schema\n",
    ").cache()"
   ]
  },
  {
   "cell_type": "code",
   "execution_count": null,
   "id": "e3687bef-f846-4b69-8f3f-e2251ab6edb6",
   "metadata": {},
   "outputs": [],
   "source": [
    "ts_all_sdf.count()"
   ]
  },
  {
   "cell_type": "code",
   "execution_count": null,
   "id": "2a0bfea4-2134-4a2e-9db1-86cd3df5a749",
   "metadata": {},
   "outputs": [],
   "source": [
    "ts_all_sdf.show()"
   ]
  },
  {
   "cell_type": "code",
   "execution_count": null,
   "id": "6645601c-5b69-4b80-9988-5993211f1919",
   "metadata": {},
   "outputs": [],
   "source": [
    "mod.getContinuous()"
   ]
  },
  {
   "cell_type": "markdown",
   "id": "01699283-d351-4d0b-901a-1617e349771c",
   "metadata": {},
   "source": [
    "# Old interface\n",
    "This may allow to build a model and run later..."
   ]
  },
  {
   "cell_type": "code",
   "execution_count": null,
   "id": "78af4445-7296-4048-9ad6-11943e8454bb",
   "metadata": {},
   "outputs": [],
   "source": [
    "from OMPython import OMCSessionZMQ\n",
    "omc=OMCSessionZMQ()"
   ]
  },
  {
   "cell_type": "code",
   "execution_count": null,
   "id": "939831e6-484d-4a43-a7f4-cb8875838b06",
   "metadata": {},
   "outputs": [],
   "source": [
    "omc.sendExpression(\"getVersion()\")"
   ]
  },
  {
   "cell_type": "code",
   "execution_count": null,
   "id": "51cc8f8e-834e-4c2a-9e26-13057e6c6735",
   "metadata": {},
   "outputs": [],
   "source": [
    "#omc.sendExpression(\"loadFile(getInstallationDirectoryPath() + \\\"/share/doc/omc/testmodels/BouncingBall.mo\\\")\")\n",
    "omc.sendExpression(\"loadFile(\\\"BouncingBall.mo\\\")\")"
   ]
  },
  {
   "cell_type": "code",
   "execution_count": null,
   "id": "bfcf5b0d-f2c6-43a0-9206-937b9ff8a438",
   "metadata": {},
   "outputs": [],
   "source": [
    "omc.sendExpression(\"instantiateModel(BouncingBall)\")"
   ]
  },
  {
   "cell_type": "code",
   "execution_count": null,
   "id": "9e0d91d3-6625-42f4-8021-d2828cca2ee5",
   "metadata": {},
   "outputs": [],
   "source": [
    "omc.sendExpression(\"getClassNames()\")"
   ]
  },
  {
   "cell_type": "code",
   "execution_count": null,
   "id": "d192e654-a1b3-4e5b-aea7-ffaa43d7d1b5",
   "metadata": {},
   "outputs": [],
   "source": [
    "omc.sendExpression(\"checkModel(BouncingBall)\")"
   ]
  },
  {
   "cell_type": "code",
   "execution_count": null,
   "id": "6a053660-2efe-4c11-bf63-9e3f0df210e3",
   "metadata": {},
   "outputs": [],
   "source": [
    "omc.sendExpression(\"checkSettings()\")"
   ]
  },
  {
   "cell_type": "code",
   "execution_count": null,
   "id": "710c1b72-ec45-412a-a1f6-effab86bf669",
   "metadata": {},
   "outputs": [],
   "source": [
    "%%time\n",
    "omc.sendExpression(\"buildModel(BouncingBall)\")"
   ]
  },
  {
   "cell_type": "code",
   "execution_count": null,
   "id": "15d3d7be-b837-4c87-b500-7d5e759092b6",
   "metadata": {},
   "outputs": [],
   "source": [
    "#%%time\n",
    "#omc.sendExpression(\"simulate(BouncingBall, stopTime=3.0)\")"
   ]
  },
  {
   "cell_type": "markdown",
   "id": "113dc6bc-dfa6-4600-8b55-79f647b1c1d9",
   "metadata": {},
   "source": [
    "Kann man ein binary bauen und dann mit Optionen und Input-Daten aufrufen?"
   ]
  },
  {
   "cell_type": "code",
   "execution_count": null,
   "id": "412313c4-7634-4a0f-9905-1c8b05d867fa",
   "metadata": {},
   "outputs": [],
   "source": [
    "os.system('./BouncingBall')"
   ]
  },
  {
   "cell_type": "code",
   "execution_count": null,
   "id": "a793eba8-64d1-4364-9af3-4a19ba541118",
   "metadata": {},
   "outputs": [],
   "source": [
    "#omc.sendExpression('buildModel(BouncingBall.mo,BouncingBall)')"
   ]
  },
  {
   "cell_type": "code",
   "execution_count": null,
   "id": "84ca49ff-e7ae-4185-90af-49630e3c4bca",
   "metadata": {},
   "outputs": [],
   "source": [
    "#omc.sendExpression('simulate(my_library.my_model, simflags=\"-overrideFile=parameter_sweep1.txt\", stopTime=86400)')\n",
    "omc.sendExpression('simulate(BouncingBall.mo, stopTime=2, resultFile=d.mat)')"
   ]
  },
  {
   "cell_type": "code",
   "execution_count": null,
   "id": "376fa191-3da2-411b-bc9f-7c78b81f38aa",
   "metadata": {},
   "outputs": [],
   "source": [
    "vars = omc.sendExpression(\"readSimulationResultVars(\\\"BouncingBall_res.mat\\\",true)\")"
   ]
  },
  {
   "cell_type": "code",
   "execution_count": null,
   "id": "75be94b1-0ec9-4cf7-9728-084b91d599c3",
   "metadata": {},
   "outputs": [],
   "source": [
    "vars_str = ','.join(vars)\n",
    "vars_str"
   ]
  },
  {
   "cell_type": "code",
   "execution_count": null,
   "id": "181cab2a-f989-4829-948c-0ac2a3c1dfff",
   "metadata": {},
   "outputs": [],
   "source": [
    "#data = omc.sendExpression(\"readSimulationResult(\\\"BouncingBall_res.mat\\\",{test.co_sim.A.h})\")\n",
    "#data = omc.sendExpression(\"readSimulationResult(\\\"BouncingBall_res.mat\\\",{time, h})\")\n",
    "data = omc.sendExpression(\"readSimulationResult(\\\"BouncingBall_res.mat\\\",{\" + vars_str + \"})\")"
   ]
  },
  {
   "cell_type": "code",
   "execution_count": null,
   "id": "88b5943a-4d81-4257-841d-15f2e83a190f",
   "metadata": {},
   "outputs": [],
   "source": [
    "ts_df = pd.DataFrame(data).T\n",
    "\n",
    "ts_df.columns = vars\n",
    "ts_df"
   ]
  },
  {
   "cell_type": "code",
   "execution_count": null,
   "id": "f54a6ba4-e79e-4e64-b0f6-ee4bf39ed84b",
   "metadata": {},
   "outputs": [],
   "source": []
  }
 ],
 "metadata": {
  "kernelspec": {
   "display_name": "Python 3 (ipykernel)",
   "language": "python",
   "name": "python3"
  },
  "language_info": {
   "codemirror_mode": {
    "name": "ipython",
    "version": 3
   },
   "file_extension": ".py",
   "mimetype": "text/x-python",
   "name": "python",
   "nbconvert_exporter": "python",
   "pygments_lexer": "ipython3",
   "version": "3.8.13"
  }
 },
 "nbformat": 4,
 "nbformat_minor": 5
}
