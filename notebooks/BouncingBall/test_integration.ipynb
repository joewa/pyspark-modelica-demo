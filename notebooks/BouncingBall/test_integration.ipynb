{
 "cells": [
  {
   "cell_type": "markdown",
   "id": "abb917f3-cbc8-4a6a-84d0-400887d8d563",
   "metadata": {},
   "source": [
    "# Running a Modelica model provided through conda\n",
    "- Build and compile the model once\n",
    "- Make it a conda package\n",
    "- Call the compiled model with different input data\n",
    "- Use it on scale. Change parameters only during runtime.\n",
    "\n",
    "See https://openmodelica.org/doc/OpenModelicaUsersGuide/v1.11.0/ompython.html"
   ]
  },
  {
   "cell_type": "code",
   "execution_count": null,
   "id": "2f86fe2a-74d6-418f-88ec-327c2a2c4e59",
   "metadata": {},
   "outputs": [],
   "source": [
    "import pandas as  pd\n",
    "import os\n",
    "import sys"
   ]
  },
  {
   "cell_type": "code",
   "execution_count": null,
   "id": "ccf7ecb1-9b15-4e30-bac0-f572cf1438ce",
   "metadata": {},
   "outputs": [],
   "source": [
    "# Finds the package in the repo instead of the installed one\n",
    "sys.path.insert(0, '../../src')"
   ]
  },
  {
   "cell_type": "markdown",
   "id": "c787c646-9c7d-42dd-9564-c6c00807d79d",
   "metadata": {},
   "source": [
    "##  Run simulation"
   ]
  },
  {
   "cell_type": "code",
   "execution_count": null,
   "id": "084b83fd-27fa-4215-8047-1d1582c4531f",
   "metadata": {},
   "outputs": [],
   "source": [
    "from OMPython import ModelicaSystem"
   ]
  },
  {
   "cell_type": "code",
   "execution_count": null,
   "id": "e80bddc8-4c8b-469b-9b0b-e51489af4d4c",
   "metadata": {},
   "outputs": [],
   "source": [
    "from ModelicaModels import BouncingBall"
   ]
  },
  {
   "cell_type": "code",
   "execution_count": null,
   "id": "4c8d6624-c58e-49de-a3b6-73fad79aba6c",
   "metadata": {},
   "outputs": [],
   "source": [
    "mod = BouncingBall.instantiatemodel()"
   ]
  },
  {
   "cell_type": "code",
   "execution_count": null,
   "id": "c67aa5c1-9a4c-4a4f-9b83-5e641198d95e",
   "metadata": {},
   "outputs": [],
   "source": [
    "#sim_options_d = mod.getSimulationOptions()\n",
    "#sim_options_d['stopTime'] = 2\n",
    "#mod.setSimulationOptions(sim_options_d)\n",
    "#mod.getSimulationOptions()"
   ]
  },
  {
   "cell_type": "code",
   "execution_count": null,
   "id": "03ed2656-3e92-4b62-a845-4850f9fd9c39",
   "metadata": {},
   "outputs": [],
   "source": [
    "%%time\n",
    "resfilename = 'b.mat'\n",
    "mod.setParameters(\"e=0.2\")\n",
    "mod.simulate(resultfile=resfilename, simflags=None)"
   ]
  },
  {
   "cell_type": "code",
   "execution_count": null,
   "id": "d8164459-4bdf-4098-a48a-3dd65219a046",
   "metadata": {},
   "outputs": [],
   "source": [
    "import DyMat"
   ]
  },
  {
   "cell_type": "code",
   "execution_count": null,
   "id": "efa8b3f9-00d7-4554-a422-93f5fea4b83e",
   "metadata": {},
   "outputs": [],
   "source": [
    "def dymat2pandas(dm, block, names) -> pd.DataFrame:\n",
    "    ts_df = pd.DataFrame(dm.getVarArray(names)).T\n",
    "    #ts_df['time'] = dm.abscissa(2)\n",
    "    ts_df.columns=['time'] + names\n",
    "    return ts_df"
   ]
  },
  {
   "cell_type": "code",
   "execution_count": null,
   "id": "e08744b3-f9a0-4ef3-a824-2d85bff87cc9",
   "metadata": {},
   "outputs": [],
   "source": []
  },
  {
   "cell_type": "code",
   "execution_count": null,
   "id": "fac5f8ba-ae65-4079-b789-9c2cbaf6a7a4",
   "metadata": {},
   "outputs": [],
   "source": [
    "pathname = os.path.join(os.path.dirname(instantiatemodel.__file__), 'build')\n",
    "dm = DyMat.DyMatFile(os.path.join(pathname, 'b.mat'))\n",
    "dm.names()"
   ]
  },
  {
   "cell_type": "code",
   "execution_count": null,
   "id": "1fc20ff0-f5be-48b3-b2cd-3d18db4d3795",
   "metadata": {},
   "outputs": [],
   "source": [
    "blocks = dm.blocks()\n",
    "blocks.sort()\n",
    "for b in blocks:\n",
    "    print('Block %02d:' % b)\n",
    "    s = dm.mat['data_%d' % (b)].shape\n",
    "    v = len(dm.names(b))\n",
    "    print('  %d variables point to %d columns with %d timesteps' % (v, s[0]-1, s[1]))"
   ]
  },
  {
   "cell_type": "code",
   "execution_count": null,
   "id": "bca0c8dd-6043-4c43-a7c3-a870df47632e",
   "metadata": {},
   "outputs": [],
   "source": [
    "vars = mod.getSolutions()\n",
    "vars"
   ]
  },
  {
   "cell_type": "code",
   "execution_count": null,
   "id": "4c47b1a3-5940-442a-ae81-747929efe1eb",
   "metadata": {},
   "outputs": [],
   "source": [
    "%%time\n",
    "# TODO Loading results (from mat-file) is very slow\n",
    "data = mod.getSolutions(varList=list(vars), resultfile=resfilename)\n",
    "ts_df = pd.DataFrame(data).T\n",
    "ts_df.columns = vars\n",
    "ts_df"
   ]
  },
  {
   "cell_type": "code",
   "execution_count": null,
   "id": "6fa8b3ee-93d6-4b60-baeb-c67f8ba10850",
   "metadata": {},
   "outputs": [],
   "source": [
    "%matplotlib inline\n",
    "#%matplotlib notebook\n",
    "import matplotlib.pyplot as plt"
   ]
  },
  {
   "cell_type": "code",
   "execution_count": null,
   "id": "21fadc1c-a4c1-4f7c-bb81-449b203ddc3e",
   "metadata": {},
   "outputs": [],
   "source": [
    "fig, ax = plt.subplots(figsize=(5,3.5))\n",
    "ax.plot(ts_df['time'], ts_df['h'])\n",
    "plt.tight_layout()"
   ]
  },
  {
   "cell_type": "code",
   "execution_count": null,
   "id": "ec90d4d7-bdb3-48dd-a1c0-06b20011005d",
   "metadata": {},
   "outputs": [],
   "source": [
    "fig, ax = plt.subplots(figsize=(5,3.5))\n",
    "ts_df  = dymat2pandas(dm, 2, ['h'])\n",
    "ax.plot(ts_df['time'], ts_df['h'])\n",
    "plt.tight_layout()"
   ]
  },
  {
   "cell_type": "markdown",
   "id": "cf3d604f-f3ae-42b7-9e7e-af393c0e5c9d",
   "metadata": {},
   "source": [
    "## Parametric simulation"
   ]
  },
  {
   "cell_type": "code",
   "execution_count": null,
   "id": "111e83bd-7e74-4a47-aea2-fa1749fb0e0e",
   "metadata": {},
   "outputs": [],
   "source": [
    "mod.getParameters()"
   ]
  },
  {
   "cell_type": "code",
   "execution_count": null,
   "id": "e0b04799-3c1b-410b-a15d-b95a71d4e6a0",
   "metadata": {},
   "outputs": [],
   "source": [
    "#mod.setParameters(\"e=0.5\")"
   ]
  },
  {
   "cell_type": "code",
   "execution_count": null,
   "id": "6cf7c545-83b6-48e3-a33f-da13f7322b7c",
   "metadata": {},
   "outputs": [],
   "source": [
    "parameters_var_df = pd.DataFrame(columns=['run_key', 'modifiers'], data=[\n",
    "    ['r1', ['e=0.7']],\n",
    "    ['r2', ['e=0.5']],\n",
    "    ['r3', ['e=0.9']],\n",
    "])\n",
    "parameters_var_df"
   ]
  },
  {
   "cell_type": "markdown",
   "id": "f0587295-9641-4c05-bd3a-e5df4356cce7",
   "metadata": {},
   "source": [
    "### Sequential execution"
   ]
  },
  {
   "cell_type": "code",
   "execution_count": null,
   "id": "c1b5b9fa-da11-4687-aad2-a7238e2cb0e5",
   "metadata": {},
   "outputs": [],
   "source": [
    "def run_sim(mod, parameters, res_vars=None, pathname=None) -> pd.DataFrame:\n",
    "    \"\"\"Simulation of a single run. The unique run identifier is in the column run_key.\"\"\"\n",
    "    grp = parameters['run_key'].iloc[0]\n",
    "    resfilename = grp + '.mat'\n",
    "    resfilepathname = os.path.join(pathname, resfilename)\n",
    "    mod.setParameters(parameters['modifiers'])\n",
    "    mod.simulate(resultfile=resfilename, simflags=None)\n",
    "    # Collect results\n",
    "    if isinstance(res_vars, tuple):\n",
    "        res_vars = list(res_vars)\n",
    "    try:\n",
    "        dm = DyMat.DyMatFile(resfilepathname)\n",
    "        ts_df = dymat2pandas(dm, 2, res_vars)\n",
    "    except:\n",
    "        ts_df = pd.DataFrame(columns=['time'] + res_vars, data=[[-1.0 ,0.0, 0.0]])\n",
    "    os.remove(resfilepathname)\n",
    "    ts_df.columns = ['time'] + res_vars\n",
    "    ts_df['run_key'] = grp\n",
    "    return ts_df\n",
    "\n",
    "\n",
    "def get_sim_dist_func(mod, res_vars=None):\n",
    "    \"\"\"Return the pandas (udf) function to simulate a set of runs.\"\"\"\n",
    "    pathname = os.path.join(os.path.dirname(BouncingBall.__file__), '../build/BouncingBall')\n",
    "    def run_sim_dist(parameters) -> pd.DataFrame():\n",
    "        return run_sim(mod, parameters, res_vars=res_vars, pathname=pathname)\n",
    "    return run_sim_dist"
   ]
  },
  {
   "cell_type": "code",
   "execution_count": null,
   "id": "db3b421d-bac9-46ac-8b4f-3d1ceae725fa",
   "metadata": {},
   "outputs": [],
   "source": [
    "ts_all_df = parameters_var_df.groupby(['run_key']).apply(\n",
    "        get_sim_dist_func(mod, res_vars=['h','v'])\n",
    "    )"
   ]
  },
  {
   "cell_type": "code",
   "execution_count": null,
   "id": "eae09234-de63-441d-9df7-ae469ecf3f2d",
   "metadata": {},
   "outputs": [],
   "source": [
    "ts_all_df"
   ]
  },
  {
   "cell_type": "markdown",
   "id": "b4797bcb-3f83-4f95-9b57-781439c957d4",
   "metadata": {},
   "source": [
    "### Parallel execution with Spark"
   ]
  },
  {
   "cell_type": "code",
   "execution_count": null,
   "id": "874fc555-304a-4f88-9e01-7588d45cee7a",
   "metadata": {},
   "outputs": [],
   "source": [
    "parameters_var_sdf = spark.createDataFrame(parameters_var_df)\n",
    "parameters_var_sdf.show()"
   ]
  },
  {
   "cell_type": "markdown",
   "id": "35f07118-0c2a-4ca2-9c05-d7460da03280",
   "metadata": {},
   "source": [
    "### Parallel execution"
   ]
  },
  {
   "cell_type": "code",
   "execution_count": null,
   "id": "96764b73-7489-45a6-9a8b-c3cbcb609fa9",
   "metadata": {},
   "outputs": [],
   "source": [
    "from TestBouncingBall import run_bouncingball_spark"
   ]
  },
  {
   "cell_type": "code",
   "execution_count": null,
   "id": "1b770d25-f296-4e22-bde5-52fdf2fa2675",
   "metadata": {},
   "outputs": [],
   "source": [
    "ts_sim_sdf = run_bouncingball_spark(parameters_var_sdf)"
   ]
  },
  {
   "cell_type": "code",
   "execution_count": null,
   "id": "9c469e8a-ca3b-41dd-8ea5-17318489f3e2",
   "metadata": {},
   "outputs": [],
   "source": [
    "# ModuleNotFoundError: No module named 'OMPython'\n",
    "# Reason: The import is done from the worker, which is probably the desired behavior\n",
    "ts_sim_sdf.show()"
   ]
  },
  {
   "cell_type": "code",
   "execution_count": null,
   "id": "2647bf55-50a5-4677-a766-f54979413ae8",
   "metadata": {},
   "outputs": [],
   "source": []
  },
  {
   "cell_type": "code",
   "execution_count": null,
   "id": "057392bc-6d04-4a37-8441-5a22ef61e0cb",
   "metadata": {},
   "outputs": [],
   "source": [
    "T.StructType"
   ]
  },
  {
   "cell_type": "code",
   "execution_count": null,
   "id": "bb52f825-5692-4add-a239-cefde62781a9",
   "metadata": {},
   "outputs": [],
   "source": [
    "from pyspark.sql import functions as F, types as T"
   ]
  },
  {
   "cell_type": "code",
   "execution_count": null,
   "id": "90e1ef2f-3eb4-4f80-91bb-125efdbacf35",
   "metadata": {},
   "outputs": [],
   "source": [
    "res_schema = T.StructType([ \\\n",
    "    T.StructField(\"time\", T.DoubleType(),True), \\\n",
    "    T.StructField(\"h\", T.DoubleType(),True), \\\n",
    "    T.StructField(\"v\", T.DoubleType(),True), \\\n",
    "    T.StructField(\"run_key\", T.StringType(), True), \\\n",
    "  ])"
   ]
  },
  {
   "cell_type": "code",
   "execution_count": null,
   "id": "33c9011f-f0e9-40cc-b3cb-bd79ac097e46",
   "metadata": {},
   "outputs": [],
   "source": [
    "mod = ModelicaSystem(\n",
    "        fileName=instantiatemodel.fn, modelName=\"BouncingBall\",\n",
    "        xmlFileName=instantiatemodel.xmlfn\n",
    "    )\n",
    "\n",
    "ts_all_sdf = parameters_var_sdf.groupby('run_key').applyInPandas(\n",
    "    get_sim_dist_func(mod, res_vars=('h', 'v')), schema=res_schema\n",
    ").cache()"
   ]
  },
  {
   "cell_type": "code",
   "execution_count": null,
   "id": "e3687bef-f846-4b69-8f3f-e2251ab6edb6",
   "metadata": {},
   "outputs": [],
   "source": [
    "ts_all_sdf.count()"
   ]
  },
  {
   "cell_type": "code",
   "execution_count": null,
   "id": "2a0bfea4-2134-4a2e-9db1-86cd3df5a749",
   "metadata": {},
   "outputs": [],
   "source": [
    "ts_all_sdf.show()"
   ]
  },
  {
   "cell_type": "code",
   "execution_count": null,
   "id": "6645601c-5b69-4b80-9988-5993211f1919",
   "metadata": {},
   "outputs": [],
   "source": [
    "mod.getContinuous()"
   ]
  },
  {
   "cell_type": "markdown",
   "id": "01699283-d351-4d0b-901a-1617e349771c",
   "metadata": {},
   "source": [
    "# Old interface\n",
    "This may allow to build a model and run later..."
   ]
  },
  {
   "cell_type": "code",
   "execution_count": null,
   "id": "78af4445-7296-4048-9ad6-11943e8454bb",
   "metadata": {},
   "outputs": [],
   "source": [
    "from OMPython import OMCSessionZMQ\n",
    "omc=OMCSessionZMQ()"
   ]
  },
  {
   "cell_type": "code",
   "execution_count": null,
   "id": "939831e6-484d-4a43-a7f4-cb8875838b06",
   "metadata": {},
   "outputs": [],
   "source": [
    "omc.sendExpression(\"getVersion()\")"
   ]
  },
  {
   "cell_type": "code",
   "execution_count": null,
   "id": "51cc8f8e-834e-4c2a-9e26-13057e6c6735",
   "metadata": {},
   "outputs": [],
   "source": [
    "#omc.sendExpression(\"loadFile(getInstallationDirectoryPath() + \\\"/share/doc/omc/testmodels/BouncingBall.mo\\\")\")\n",
    "omc.sendExpression(\"loadFile(\\\"BouncingBall.mo\\\")\")"
   ]
  },
  {
   "cell_type": "code",
   "execution_count": null,
   "id": "bfcf5b0d-f2c6-43a0-9206-937b9ff8a438",
   "metadata": {},
   "outputs": [],
   "source": [
    "omc.sendExpression(\"instantiateModel(BouncingBall)\")"
   ]
  },
  {
   "cell_type": "code",
   "execution_count": null,
   "id": "9e0d91d3-6625-42f4-8021-d2828cca2ee5",
   "metadata": {},
   "outputs": [],
   "source": [
    "omc.sendExpression(\"getClassNames()\")"
   ]
  },
  {
   "cell_type": "code",
   "execution_count": null,
   "id": "d192e654-a1b3-4e5b-aea7-ffaa43d7d1b5",
   "metadata": {},
   "outputs": [],
   "source": [
    "omc.sendExpression(\"checkModel(BouncingBall)\")"
   ]
  },
  {
   "cell_type": "code",
   "execution_count": null,
   "id": "6a053660-2efe-4c11-bf63-9e3f0df210e3",
   "metadata": {},
   "outputs": [],
   "source": [
    "omc.sendExpression(\"checkSettings()\")"
   ]
  },
  {
   "cell_type": "code",
   "execution_count": null,
   "id": "710c1b72-ec45-412a-a1f6-effab86bf669",
   "metadata": {},
   "outputs": [],
   "source": [
    "%%time\n",
    "omc.sendExpression(\"buildModel(BouncingBall)\")"
   ]
  },
  {
   "cell_type": "code",
   "execution_count": null,
   "id": "15d3d7be-b837-4c87-b500-7d5e759092b6",
   "metadata": {},
   "outputs": [],
   "source": [
    "#%%time\n",
    "#omc.sendExpression(\"simulate(BouncingBall, stopTime=3.0)\")"
   ]
  },
  {
   "cell_type": "markdown",
   "id": "113dc6bc-dfa6-4600-8b55-79f647b1c1d9",
   "metadata": {},
   "source": [
    "Kann man ein binary bauen und dann mit Optionen und Input-Daten aufrufen?"
   ]
  },
  {
   "cell_type": "code",
   "execution_count": null,
   "id": "412313c4-7634-4a0f-9905-1c8b05d867fa",
   "metadata": {},
   "outputs": [],
   "source": [
    "os.system('./BouncingBall')"
   ]
  },
  {
   "cell_type": "code",
   "execution_count": null,
   "id": "a793eba8-64d1-4364-9af3-4a19ba541118",
   "metadata": {},
   "outputs": [],
   "source": [
    "#omc.sendExpression('buildModel(BouncingBall.mo,BouncingBall)')"
   ]
  },
  {
   "cell_type": "code",
   "execution_count": null,
   "id": "84ca49ff-e7ae-4185-90af-49630e3c4bca",
   "metadata": {},
   "outputs": [],
   "source": [
    "#omc.sendExpression('simulate(my_library.my_model, simflags=\"-overrideFile=parameter_sweep1.txt\", stopTime=86400)')\n",
    "omc.sendExpression('simulate(BouncingBall.mo, stopTime=2, resultFile=d.mat)')"
   ]
  },
  {
   "cell_type": "code",
   "execution_count": null,
   "id": "376fa191-3da2-411b-bc9f-7c78b81f38aa",
   "metadata": {},
   "outputs": [],
   "source": [
    "vars = omc.sendExpression(\"readSimulationResultVars(\\\"BouncingBall_res.mat\\\",true)\")"
   ]
  },
  {
   "cell_type": "code",
   "execution_count": null,
   "id": "75be94b1-0ec9-4cf7-9728-084b91d599c3",
   "metadata": {},
   "outputs": [],
   "source": [
    "vars_str = ','.join(vars)\n",
    "vars_str"
   ]
  },
  {
   "cell_type": "code",
   "execution_count": null,
   "id": "181cab2a-f989-4829-948c-0ac2a3c1dfff",
   "metadata": {},
   "outputs": [],
   "source": [
    "#data = omc.sendExpression(\"readSimulationResult(\\\"BouncingBall_res.mat\\\",{test.co_sim.A.h})\")\n",
    "#data = omc.sendExpression(\"readSimulationResult(\\\"BouncingBall_res.mat\\\",{time, h})\")\n",
    "data = omc.sendExpression(\"readSimulationResult(\\\"BouncingBall_res.mat\\\",{\" + vars_str + \"})\")"
   ]
  },
  {
   "cell_type": "code",
   "execution_count": null,
   "id": "88b5943a-4d81-4257-841d-15f2e83a190f",
   "metadata": {},
   "outputs": [],
   "source": [
    "ts_df = pd.DataFrame(data).T\n",
    "\n",
    "ts_df.columns = vars\n",
    "ts_df"
   ]
  },
  {
   "cell_type": "code",
   "execution_count": null,
   "id": "f54a6ba4-e79e-4e64-b0f6-ee4bf39ed84b",
   "metadata": {},
   "outputs": [],
   "source": []
  }
 ],
 "metadata": {
  "kernelspec": {
   "display_name": "Python 3 (ipykernel)",
   "language": "python",
   "name": "python3"
  },
  "language_info": {
   "codemirror_mode": {
    "name": "ipython",
    "version": 3
   },
   "file_extension": ".py",
   "mimetype": "text/x-python",
   "name": "python",
   "nbconvert_exporter": "python",
   "pygments_lexer": "ipython3",
   "version": "3.8.13"
  }
 },
 "nbformat": 4,
 "nbformat_minor": 5
}
