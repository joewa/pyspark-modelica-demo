{
 "cells": [
  {
   "cell_type": "markdown",
   "id": "abb917f3-cbc8-4a6a-84d0-400887d8d563",
   "metadata": {},
   "source": [
    "# Running a Modelica model in a conda package\n",
    "This example illustrates how to test a Modelica model from a conda package in a fresh environment `packtest` that has been created e.g. through\n",
    "```\n",
    "conda create -n packtest python=3.8 jupyterlab pyarrow matplotlib pymodelicademo -c ./build\n",
    "```\n",
    "See https://openmodelica.org/doc/OpenModelicaUsersGuide/v1.11.0/ompython.html"
   ]
  },
  {
   "cell_type": "code",
   "execution_count": null,
   "id": "2f86fe2a-74d6-418f-88ec-327c2a2c4e59",
   "metadata": {},
   "outputs": [],
   "source": [
    "import pandas as  pd\n",
    "import os\n",
    "import sys\n",
    "import json\n",
    "import tempfile\n",
    "import importlib"
   ]
  },
  {
   "cell_type": "code",
   "execution_count": null,
   "id": "d7edd8f9-aa42-4602-a6e1-a5893e54926b",
   "metadata": {},
   "outputs": [],
   "source": [
    "import DyMat"
   ]
  },
  {
   "cell_type": "markdown",
   "id": "cf3d604f-f3ae-42b7-9e7e-af393c0e5c9d",
   "metadata": {},
   "source": [
    "## Parametric simulation without OMC\n",
    "https://openmodelica.org/doc/OpenModelicaUsersGuide/latest/scripting_api.html#simulation-parameter-sweep"
   ]
  },
  {
   "cell_type": "code",
   "execution_count": null,
   "id": "4c38dc45-3fe6-4cb8-8ad1-219e8dbd8c11",
   "metadata": {},
   "outputs": [],
   "source": [
    "from ModelicaModels import BouncingBall"
   ]
  },
  {
   "cell_type": "code",
   "execution_count": null,
   "id": "14480884-5bf6-4ae6-971e-385de080fa51",
   "metadata": {},
   "outputs": [],
   "source": [
    "parameters_var_df = pd.DataFrame(columns=['run_key', 'modifiers'], data=[\n",
    "    ['r1', {'e': 0.7, 'stopTime': 5.0}],\n",
    "    ['r2', {'e': 0.5, 'stopTime': 5.0}],\n",
    "    ['r3', {'e': 0.9, 'stopTime': 5.0}],\n",
    "])\n",
    "parameters_var_df['modifiers'] = parameters_var_df['modifiers'].apply(json.dumps)\n",
    "parameters_var_df"
   ]
  },
  {
   "cell_type": "markdown",
   "id": "f0587295-9641-4c05-bd3a-e5df4356cce7",
   "metadata": {},
   "source": [
    "### Sequential execution"
   ]
  },
  {
   "cell_type": "code",
   "execution_count": null,
   "id": "865e334e-4883-4b6f-9301-8aeeefd176be",
   "metadata": {},
   "outputs": [],
   "source": [
    "mod = BouncingBall.instantiatemodel('BouncingBall')"
   ]
  },
  {
   "cell_type": "code",
   "execution_count": null,
   "id": "cbd4276e-413a-435d-b4d1-37fbfe896fe5",
   "metadata": {},
   "outputs": [],
   "source": [
    "mod.getParameters()"
   ]
  },
  {
   "cell_type": "code",
   "execution_count": null,
   "id": "22f5dfb4-2722-40b5-9ec7-9fb7c2f2b7ac",
   "metadata": {},
   "outputs": [],
   "source": [
    "from ModelicaRuntimeTools import get_sim_dist_func"
   ]
  },
  {
   "cell_type": "code",
   "execution_count": null,
   "id": "db3b421d-bac9-46ac-8b4f-3d1ceae725fa",
   "metadata": {},
   "outputs": [],
   "source": [
    "%%time\n",
    "ts_all_df = parameters_var_df.groupby(['run_key']).apply(\n",
    "        get_sim_dist_func(BouncingBall, 'BouncingBall', res_vars=['h', 'v'])\n",
    "    )"
   ]
  },
  {
   "cell_type": "code",
   "execution_count": null,
   "id": "eae09234-de63-441d-9df7-ae469ecf3f2d",
   "metadata": {},
   "outputs": [],
   "source": [
    "ts_all_df"
   ]
  },
  {
   "cell_type": "code",
   "execution_count": null,
   "id": "a25b3591-1310-4f4c-8186-b0121a94f235",
   "metadata": {},
   "outputs": [],
   "source": [
    "%matplotlib inline"
   ]
  },
  {
   "cell_type": "code",
   "execution_count": null,
   "id": "8b103d52-3377-425d-89cf-109eebb3b75c",
   "metadata": {},
   "outputs": [],
   "source": [
    "import matplotlib.pyplot as plt"
   ]
  },
  {
   "cell_type": "code",
   "execution_count": null,
   "id": "0ebc5edf-9982-4c8d-9c49-011de3e382f6",
   "metadata": {},
   "outputs": [],
   "source": [
    "p_df = ts_all_df[[\n",
    "    'time', 'run_key', 'h'\n",
    "]].reset_index(drop=True).drop_duplicates(subset=['time', 'run_key'])\n",
    "p_df.pivot(index='time',columns='run_key', values='h').plot()"
   ]
  },
  {
   "cell_type": "markdown",
   "id": "b4797bcb-3f83-4f95-9b57-781439c957d4",
   "metadata": {},
   "source": [
    "### Parallel execution with Spark"
   ]
  },
  {
   "cell_type": "code",
   "execution_count": null,
   "id": "874fc555-304a-4f88-9e01-7588d45cee7a",
   "metadata": {},
   "outputs": [],
   "source": [
    "parameters_var_sdf = spark.createDataFrame(parameters_var_df)\n",
    "parameters_var_sdf.show()"
   ]
  },
  {
   "cell_type": "markdown",
   "id": "35f07118-0c2a-4ca2-9c05-d7460da03280",
   "metadata": {},
   "source": [
    "### Parallel execution"
   ]
  },
  {
   "cell_type": "code",
   "execution_count": null,
   "id": "96764b73-7489-45a6-9a8b-c3cbcb609fa9",
   "metadata": {},
   "outputs": [],
   "source": [
    "from pyspark.sql import types as T, functions as F\n",
    "res_schema = T.StructType([\n",
    "    T.StructField(\"time\", T.DoubleType(), True),\n",
    "    T.StructField(\"h\", T.DoubleType(), True),\n",
    "    T.StructField(\"v\", T.DoubleType(), True),\n",
    "    T.StructField(\"run_key\", T.StringType(), True),\n",
    "])\n",
    "# Running the parametric simulation\n",
    "ts_sim_sdf = parameters_var_sdf.groupby(['run_key']).applyInPandas(\n",
    "        get_sim_dist_func(BouncingBall, 'BouncingBall', res_vars=['h', 'v'], use_local=True), schema=res_schema,\n",
    "    ).cache()"
   ]
  },
  {
   "cell_type": "code",
   "execution_count": null,
   "id": "9c469e8a-ca3b-41dd-8ea5-17318489f3e2",
   "metadata": {},
   "outputs": [],
   "source": [
    "ts_sim_sdf.show()"
   ]
  },
  {
   "cell_type": "code",
   "execution_count": null,
   "id": "280c75c5-46d0-41be-bb0f-1c616bb579a0",
   "metadata": {},
   "outputs": [],
   "source": [
    "for n, run_key in enumerate(parameters_var_df['run_key'].unique()):\n",
    "    ts_run_sim_pdf = ts_sim_sdf.where(F.col('run_key') == run_key).toPandas()\n",
    "    plt.plot(ts_run_sim_pdf['time'], ts_run_sim_pdf['h'])\n",
    "plt.show()"
   ]
  },
  {
   "cell_type": "code",
   "execution_count": null,
   "id": "2647bf55-50a5-4677-a766-f54979413ae8",
   "metadata": {},
   "outputs": [],
   "source": []
  }
 ],
 "metadata": {
  "kernelspec": {
   "display_name": "Python 3 (ipykernel)",
   "language": "python",
   "name": "python3"
  },
  "language_info": {
   "codemirror_mode": {
    "name": "ipython",
    "version": 3
   },
   "file_extension": ".py",
   "mimetype": "text/x-python",
   "name": "python",
   "nbconvert_exporter": "python",
   "pygments_lexer": "ipython3",
   "version": "3.8.13"
  }
 },
 "nbformat": 4,
 "nbformat_minor": 5
}
